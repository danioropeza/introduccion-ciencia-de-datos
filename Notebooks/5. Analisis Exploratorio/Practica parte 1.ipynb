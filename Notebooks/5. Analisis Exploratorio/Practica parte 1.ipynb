{
 "cells": [
  {
   "cell_type": "code",
   "execution_count": 1,
   "metadata": {},
   "outputs": [],
   "source": [
    "#Habilitar intellisense\n",
    "%config IPCompleter.greedy = True"
   ]
  },
  {
   "cell_type": "code",
   "execution_count": 2,
   "metadata": {},
   "outputs": [],
   "source": [
    "%matplotlib inline"
   ]
  },
  {
   "cell_type": "code",
   "execution_count": 3,
   "metadata": {},
   "outputs": [],
   "source": [
    "import os\n",
    "import pandas as pd\n",
    "import numpy as np\n",
    "import matplotlib.pyplot as plt\n",
    "import seaborn as sns\n",
    "import requests\n",
    "from bs4 import BeautifulSoup\n",
    "import csv\n",
    "import re"
   ]
  },
  {
   "cell_type": "markdown",
   "metadata": {},
   "source": [
    "## Práctica\n",
    "\n",
    "Empleando los datos sobre automóviles extraidos en un archivo csv via webscraping. Responda la siguientes preguntas:\n",
    "\n",
    "- La asimetría de la variable \"caballos_potencia\" es negativa?\n",
    "- Entre estas variables: \"caballos_potencia\", \"desplazamiento\", \"mpg\"y  \"aceleracion\", cuáles tienen valores atípicos en ambos entremos?\n",
    "- Entre estas variables: \"caballos_potencia\", \"desplazamiento\", \"mpg\"y  \"aceleracion\", cuáles no tienen valores atípicos?\n",
    "- Entre estas variables: \"caballos_potencia\", \"desplazamiento\", \"mpg\"y  \"aceleracion\", cuáles son las variable con mayor y menor asimetría?.\n",
    "- Entre estas variables: \"caballos_potencia\", \"desplazamiento\", \"mpg\"y  \"aceleracion\", muestre los valores atípicos de aquellas variables que los tengan en ambos extremos."
   ]
  },
  {
   "cell_type": "code",
   "execution_count": 4,
   "metadata": {},
   "outputs": [
    {
     "data": {
      "text/html": [
       "<div>\n",
       "<style scoped>\n",
       "    .dataframe tbody tr th:only-of-type {\n",
       "        vertical-align: middle;\n",
       "    }\n",
       "\n",
       "    .dataframe tbody tr th {\n",
       "        vertical-align: top;\n",
       "    }\n",
       "\n",
       "    .dataframe thead th {\n",
       "        text-align: right;\n",
       "    }\n",
       "</style>\n",
       "<table border=\"1\" class=\"dataframe\">\n",
       "  <thead>\n",
       "    <tr style=\"text-align: right;\">\n",
       "      <th></th>\n",
       "      <th>nombre</th>\n",
       "      <th>cilindros</th>\n",
       "      <th>peso</th>\n",
       "      <th>anio</th>\n",
       "      <th>territorio</th>\n",
       "      <th>aceleracion</th>\n",
       "      <th>mpg</th>\n",
       "      <th>caballos_potencia</th>\n",
       "      <th>desplazamiento</th>\n",
       "    </tr>\n",
       "  </thead>\n",
       "  <tbody>\n",
       "    <tr>\n",
       "      <td>0</td>\n",
       "      <td>Chevrolet Chevelle Malibu</td>\n",
       "      <td>8</td>\n",
       "      <td>3504</td>\n",
       "      <td>1970</td>\n",
       "      <td>USA</td>\n",
       "      <td>12.0</td>\n",
       "      <td>18.0</td>\n",
       "      <td>130.0</td>\n",
       "      <td>307.0</td>\n",
       "    </tr>\n",
       "    <tr>\n",
       "      <td>1</td>\n",
       "      <td>Buick Skylark 320</td>\n",
       "      <td>8</td>\n",
       "      <td>3693</td>\n",
       "      <td>1970</td>\n",
       "      <td>USA</td>\n",
       "      <td>11.5</td>\n",
       "      <td>15.0</td>\n",
       "      <td>165.0</td>\n",
       "      <td>350.0</td>\n",
       "    </tr>\n",
       "    <tr>\n",
       "      <td>2</td>\n",
       "      <td>Plymouth Satellite</td>\n",
       "      <td>8</td>\n",
       "      <td>3436</td>\n",
       "      <td>1970</td>\n",
       "      <td>USA</td>\n",
       "      <td>11.0</td>\n",
       "      <td>18.0</td>\n",
       "      <td>150.0</td>\n",
       "      <td>318.0</td>\n",
       "    </tr>\n",
       "    <tr>\n",
       "      <td>3</td>\n",
       "      <td>Amc Rebel Sst</td>\n",
       "      <td>8</td>\n",
       "      <td>3433</td>\n",
       "      <td>1970</td>\n",
       "      <td>USA</td>\n",
       "      <td>12.0</td>\n",
       "      <td>16.0</td>\n",
       "      <td>150.0</td>\n",
       "      <td>304.0</td>\n",
       "    </tr>\n",
       "    <tr>\n",
       "      <td>4</td>\n",
       "      <td>Ford Torino</td>\n",
       "      <td>8</td>\n",
       "      <td>3449</td>\n",
       "      <td>1970</td>\n",
       "      <td>USA</td>\n",
       "      <td>10.5</td>\n",
       "      <td>17.0</td>\n",
       "      <td>140.0</td>\n",
       "      <td>302.0</td>\n",
       "    </tr>\n",
       "  </tbody>\n",
       "</table>\n",
       "</div>"
      ],
      "text/plain": [
       "                      nombre  cilindros  peso  anio territorio  aceleracion  \\\n",
       "0  Chevrolet Chevelle Malibu          8  3504  1970        USA         12.0   \n",
       "1          Buick Skylark 320          8  3693  1970        USA         11.5   \n",
       "2         Plymouth Satellite          8  3436  1970        USA         11.0   \n",
       "3              Amc Rebel Sst          8  3433  1970        USA         12.0   \n",
       "4                Ford Torino          8  3449  1970        USA         10.5   \n",
       "\n",
       "    mpg  caballos_potencia  desplazamiento  \n",
       "0  18.0              130.0           307.0  \n",
       "1  15.0              165.0           350.0  \n",
       "2  18.0              150.0           318.0  \n",
       "3  16.0              150.0           304.0  \n",
       "4  17.0              140.0           302.0  "
      ]
     },
     "execution_count": 4,
     "metadata": {},
     "output_type": "execute_result"
    }
   ],
   "source": [
    "autos = pd.read_csv('datos_automoviles.csv')\n",
    "autos.head()"
   ]
  },
  {
   "cell_type": "code",
   "execution_count": 5,
   "metadata": {},
   "outputs": [
    {
     "data": {
      "text/html": [
       "<div>\n",
       "<style scoped>\n",
       "    .dataframe tbody tr th:only-of-type {\n",
       "        vertical-align: middle;\n",
       "    }\n",
       "\n",
       "    .dataframe tbody tr th {\n",
       "        vertical-align: top;\n",
       "    }\n",
       "\n",
       "    .dataframe thead th {\n",
       "        text-align: right;\n",
       "    }\n",
       "</style>\n",
       "<table border=\"1\" class=\"dataframe\">\n",
       "  <thead>\n",
       "    <tr style=\"text-align: right;\">\n",
       "      <th></th>\n",
       "      <th>cilindros</th>\n",
       "      <th>peso</th>\n",
       "      <th>anio</th>\n",
       "      <th>aceleracion</th>\n",
       "      <th>mpg</th>\n",
       "      <th>caballos_potencia</th>\n",
       "      <th>desplazamiento</th>\n",
       "    </tr>\n",
       "  </thead>\n",
       "  <tbody>\n",
       "    <tr>\n",
       "      <td>count</td>\n",
       "      <td>406.000000</td>\n",
       "      <td>406.000000</td>\n",
       "      <td>406.000000</td>\n",
       "      <td>406.000000</td>\n",
       "      <td>398.000000</td>\n",
       "      <td>400.000000</td>\n",
       "      <td>406.000000</td>\n",
       "    </tr>\n",
       "    <tr>\n",
       "      <td>mean</td>\n",
       "      <td>5.475369</td>\n",
       "      <td>2979.413793</td>\n",
       "      <td>1975.921182</td>\n",
       "      <td>15.519704</td>\n",
       "      <td>23.514573</td>\n",
       "      <td>105.082500</td>\n",
       "      <td>194.779557</td>\n",
       "    </tr>\n",
       "    <tr>\n",
       "      <td>std</td>\n",
       "      <td>1.712160</td>\n",
       "      <td>847.004328</td>\n",
       "      <td>3.748737</td>\n",
       "      <td>2.803359</td>\n",
       "      <td>7.815984</td>\n",
       "      <td>38.768779</td>\n",
       "      <td>104.922458</td>\n",
       "    </tr>\n",
       "    <tr>\n",
       "      <td>min</td>\n",
       "      <td>3.000000</td>\n",
       "      <td>1613.000000</td>\n",
       "      <td>1970.000000</td>\n",
       "      <td>8.000000</td>\n",
       "      <td>9.000000</td>\n",
       "      <td>46.000000</td>\n",
       "      <td>68.000000</td>\n",
       "    </tr>\n",
       "    <tr>\n",
       "      <td>25%</td>\n",
       "      <td>4.000000</td>\n",
       "      <td>2226.500000</td>\n",
       "      <td>1973.000000</td>\n",
       "      <td>13.700000</td>\n",
       "      <td>17.500000</td>\n",
       "      <td>75.750000</td>\n",
       "      <td>105.000000</td>\n",
       "    </tr>\n",
       "    <tr>\n",
       "      <td>50%</td>\n",
       "      <td>4.000000</td>\n",
       "      <td>2822.500000</td>\n",
       "      <td>1976.000000</td>\n",
       "      <td>15.500000</td>\n",
       "      <td>23.000000</td>\n",
       "      <td>95.000000</td>\n",
       "      <td>151.000000</td>\n",
       "    </tr>\n",
       "    <tr>\n",
       "      <td>75%</td>\n",
       "      <td>8.000000</td>\n",
       "      <td>3618.250000</td>\n",
       "      <td>1979.000000</td>\n",
       "      <td>17.175000</td>\n",
       "      <td>29.000000</td>\n",
       "      <td>130.000000</td>\n",
       "      <td>302.000000</td>\n",
       "    </tr>\n",
       "    <tr>\n",
       "      <td>max</td>\n",
       "      <td>8.000000</td>\n",
       "      <td>5140.000000</td>\n",
       "      <td>1982.000000</td>\n",
       "      <td>24.800000</td>\n",
       "      <td>46.600000</td>\n",
       "      <td>230.000000</td>\n",
       "      <td>455.000000</td>\n",
       "    </tr>\n",
       "  </tbody>\n",
       "</table>\n",
       "</div>"
      ],
      "text/plain": [
       "        cilindros         peso         anio  aceleracion         mpg  \\\n",
       "count  406.000000   406.000000   406.000000   406.000000  398.000000   \n",
       "mean     5.475369  2979.413793  1975.921182    15.519704   23.514573   \n",
       "std      1.712160   847.004328     3.748737     2.803359    7.815984   \n",
       "min      3.000000  1613.000000  1970.000000     8.000000    9.000000   \n",
       "25%      4.000000  2226.500000  1973.000000    13.700000   17.500000   \n",
       "50%      4.000000  2822.500000  1976.000000    15.500000   23.000000   \n",
       "75%      8.000000  3618.250000  1979.000000    17.175000   29.000000   \n",
       "max      8.000000  5140.000000  1982.000000    24.800000   46.600000   \n",
       "\n",
       "       caballos_potencia  desplazamiento  \n",
       "count         400.000000      406.000000  \n",
       "mean          105.082500      194.779557  \n",
       "std            38.768779      104.922458  \n",
       "min            46.000000       68.000000  \n",
       "25%            75.750000      105.000000  \n",
       "50%            95.000000      151.000000  \n",
       "75%           130.000000      302.000000  \n",
       "max           230.000000      455.000000  "
      ]
     },
     "execution_count": 5,
     "metadata": {},
     "output_type": "execute_result"
    }
   ],
   "source": [
    "autos_descripcion = autos.describe()\n",
    "autos_descripcion"
   ]
  },
  {
   "cell_type": "code",
   "execution_count": 30,
   "metadata": {},
   "outputs": [
    {
     "name": "stdout",
     "output_type": "stream",
     "text": [
      "Asimetría caballos de fuerza\n",
      "1.034079427703104\n"
     ]
    },
    {
     "data": {
      "text/plain": [
       "<matplotlib.axes._subplots.AxesSubplot at 0x7f54c0a351d0>"
      ]
     },
     "execution_count": 30,
     "metadata": {},
     "output_type": "execute_result"
    },
    {
     "data": {
      "image/png": "[encoded data removed]",
      "text/plain": [
       "<Figure size 432x288 with 1 Axes>"
      ]
     },
     "metadata": {
      "needs_background": "light"
     },
     "output_type": "display_data"
    }
   ],
   "source": [
    "asimetria_caballos_potencia = autos['caballos_potencia'].skew()\n",
    "asimetria_desplazamiento = autos['desplazamiento'].skew()\n",
    "asimetria_mpg = autos['mpg'].skew()\n",
    "asimetria_aceleracion = autos['aceleracion'].skew()\n",
    "print('Asimetría caballos de fuerza')\n",
    "print(asimetria_caballos_potencia)\n",
    "\n",
    "autos['caballos_potencia'].plot.density()"
   ]
  },
  {
   "cell_type": "code",
   "execution_count": 16,
   "metadata": {
    "scrolled": true
   },
   "outputs": [
    {
     "name": "stdout",
     "output_type": "stream",
     "text": [
      "Izquierda: -5.625  -  Derecha: 211.375\n",
      "72\n"
     ]
    }
   ],
   "source": [
    "IQR = autos_descripcion['caballos_potencia']['75%'] - autos_descripcion['caballos_potencia']['25%']\n",
    "limite_izquierdo = autos_descripcion['caballos_potencia']['25%'] - 1.5*IQR\n",
    "limite_derecho = autos_descripcion['caballos_potencia']['75%'] + 1.5*IQR\n",
    "print(f'Izquierda: {limite_izquierdo}  -  Derecha: {limite_derecho}')\n",
    "valores_atipicos_uno = autos.loc[(autos['caballos_potencia'] >= limite_derecho)]\n",
    "valores_atipicos_dos = autos.loc[(autos['caballos_potencia'] <= limite_izquierdo)]\n",
    "valores_atipicos = pd.concat([valores_atipicos_dos, valores_atipicos_uno])\n",
    "print(valores_atipicos.size)"
   ]
  },
  {
   "cell_type": "code",
   "execution_count": 29,
   "metadata": {},
   "outputs": [
    {
     "name": "stdout",
     "output_type": "stream",
     "text": [
      "Izquierda: -87.0  -  Derecha: 292.75\n",
      "0\n"
     ]
    },
    {
     "data": {
      "text/plain": [
       "<matplotlib.axes._subplots.AxesSubplot at 0x7f54c0aa1d50>"
      ]
     },
     "execution_count": 29,
     "metadata": {},
     "output_type": "execute_result"
    },
    {
     "data": {
      "image/png": "[encoded data removed]",
      "text/plain": [
       "<Figure size 432x288 with 1 Axes>"
      ]
     },
     "metadata": {
      "needs_background": "light"
     },
     "output_type": "display_data"
    }
   ],
   "source": [
    "limite_izquierdo_extremo = autos_descripcion['caballos_potencia']['25%'] - 3.0*IQR\n",
    "limite_derecho_extremo = autos_descripcion['caballos_potencia']['75%'] + 3.0*IQR\n",
    "print(f'Izquierda: {limite_izquierdo_extremo}  -  Derecha: {limite_derecho_extremo}')\n",
    "\n",
    "valores_atipicos_extremos_uno = autos.loc[(autos['caballos_potencia'] >= limite_derecho_extremo)]\n",
    "valores_atipicos_extremos_dos = autos.loc[(autos['caballos_potencia'] <= limite_izquierdo_extremo)]\n",
    "valores_atipicos_extremos = pd.concat([valores_atipicos_extremos_uno, valores_atipicos_extremos_dos])\n",
    "print(valores_atipicos_extremos.size)\n",
    "\n",
    "autos['caballos_potencia'].plot.box(title='Caballos de fuerza')"
   ]
  },
  {
   "cell_type": "code",
   "execution_count": 18,
   "metadata": {},
   "outputs": [
    {
     "name": "stdout",
     "output_type": "stream",
     "text": [
      "Asimetría desplazamiento\n",
      "0.6941299865999901\n"
     ]
    },
    {
     "data": {
      "text/plain": [
       "<matplotlib.axes._subplots.AxesSubplot at 0x7f9dfaa65b90>"
      ]
     },
     "execution_count": 18,
     "metadata": {},
     "output_type": "execute_result"
    },
    {
     "data": {
      "image/png": "[encoded data removed]",
      "text/plain": [
       "<Figure size 432x288 with 1 Axes>"
      ]
     },
     "metadata": {
      "needs_background": "light"
     },
     "output_type": "display_data"
    }
   ],
   "source": [
    "print('Asimetría desplazamiento')\n",
    "print(asimetria_desplazamiento)\n",
    "autos['desplazamiento'].plot.box(title='Desplazamiento')"
   ]
  },
  {
   "cell_type": "code",
   "execution_count": 19,
   "metadata": {},
   "outputs": [
    {
     "name": "stdout",
     "output_type": "stream",
     "text": [
      "Asimetría milas por galón\n",
      "0.45706634399491936\n"
     ]
    },
    {
     "data": {
      "text/plain": [
       "<matplotlib.axes._subplots.AxesSubplot at 0x7f9dfa9d0e90>"
      ]
     },
     "execution_count": 19,
     "metadata": {},
     "output_type": "execute_result"
    },
    {
     "data": {
      "image/png": "[encoded data removed]",
      "text/plain": [
       "<Figure size 432x288 with 1 Axes>"
      ]
     },
     "metadata": {
      "needs_background": "light"
     },
     "output_type": "display_data"
    }
   ],
   "source": [
    "print('Asimetría milas por galón')\n",
    "print(asimetria_mpg)\n",
    "autos['mpg'].plot.box(title='Millas por galon')"
   ]
  },
  {
   "cell_type": "code",
   "execution_count": null,
   "metadata": {},
   "outputs": [],
   "source": [
    "print('Asimetría aceleración')\n",
    "print(asimetria_aceleracion)\n",
    "autos['aceleracion'].plot.box(title='Aceleracion')"
   ]
  },
  {
   "cell_type": "code",
   "execution_count": null,
   "metadata": {},
   "outputs": [],
   "source": []
  },
  {
   "cell_type": "code",
   "execution_count": null,
   "metadata": {},
   "outputs": [],
   "source": []
  }
 ],
 "metadata": {
  "kernelspec": {
   "display_name": "Python 3",
   "language": "python",
   "name": "python3"
  },
  "language_info": {
   "codemirror_mode": {
    "name": "ipython",
    "version": 3
   },
   "file_extension": ".py",
   "mimetype": "text/x-python",
   "name": "python",
   "nbconvert_exporter": "python",
   "pygments_lexer": "ipython3",
   "version": "3.7.6"
  }
 },
 "nbformat": 4,
 "nbformat_minor": 2
}

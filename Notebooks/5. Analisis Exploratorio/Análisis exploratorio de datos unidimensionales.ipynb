{
 "cells": [
  {
   "cell_type": "code",
   "execution_count": 2,
   "metadata": {},
   "outputs": [
    {
     "data": {
      "application/javascript": [
       "IPython.notebook.set_autosave_interval(60000)"
      ]
     },
     "metadata": {},
     "output_type": "display_data"
    },
    {
     "name": "stdout",
     "output_type": "stream",
     "text": [
      "Autosaving every 60 seconds\n"
     ]
    }
   ],
   "source": [
    "#Habilitar intellisense\n",
    "%config IPCompleter.greedy = True\n",
    "%matplotlib inline\n",
    "%autosave 60"
   ]
  },
  {
   "cell_type": "markdown",
   "metadata": {},
   "source": [
    "# Análisis unidimensional\n",
    " <a id=\"1\"></a>\n",
    "\n",
    "## Objetivo\n",
    "\n",
    "Como ya se dijo anteriormente, el análisis unidimensional consiste en analizar individualmente a las variables (columnas de un DataFrame) para conocer sus características y su naturaleza. Para ello, se emplea mayormente gráficos, aunque tambien se pueden calcular valores estadísticos como el promdio, la mediana, la kurtosis, entre muchos otros.\n",
    "\n",
    "## Ejemplo de como graficar\n",
    "\n",
    "- [Ejemplo visualización](#8)\n",
    "\n",
    "## Técnicas de análisis\n",
    "\n",
    "1. [DataFrame.describe()](#3)\n",
    "2. [Indicadores de tendencia central](#1)\n",
    "3. [Indicadores de dispersión](#2)\n",
    "4. [Gráficos de distribución](#4)\n",
    "5. [Gráficos de comparación](#5)\n",
    "6. [Gráficos de composición](#6)\n",
    "7. [Utilizando Groupby](#7)"
   ]
  },
  {
   "cell_type": "markdown",
   "metadata": {},
   "source": [
    "#### Importar lbrerías y cargar datos\n",
    "__[Fuente de los datos](https://archive.ics.uci.edu/ml/datasets/Forest+Fires)__"
   ]
  },
  {
   "cell_type": "code",
   "execution_count": 1,
   "metadata": {},
   "outputs": [
    {
     "data": {
      "text/html": [
       "<div>\n",
       "<style scoped>\n",
       "    .dataframe tbody tr th:only-of-type {\n",
       "        vertical-align: middle;\n",
       "    }\n",
       "\n",
       "    .dataframe tbody tr th {\n",
       "        vertical-align: top;\n",
       "    }\n",
       "\n",
       "    .dataframe thead th {\n",
       "        text-align: right;\n",
       "    }\n",
       "</style>\n",
       "<table border=\"1\" class=\"dataframe\">\n",
       "  <thead>\n",
       "    <tr style=\"text-align: right;\">\n",
       "      <th></th>\n",
       "      <th>X</th>\n",
       "      <th>Y</th>\n",
       "      <th>month</th>\n",
       "      <th>day</th>\n",
       "      <th>FFMC</th>\n",
       "      <th>DMC</th>\n",
       "      <th>DC</th>\n",
       "      <th>ISI</th>\n",
       "      <th>temp</th>\n",
       "      <th>RH</th>\n",
       "      <th>wind</th>\n",
       "      <th>rain</th>\n",
       "      <th>area</th>\n",
       "    </tr>\n",
       "  </thead>\n",
       "  <tbody>\n",
       "    <tr>\n",
       "      <th>0</th>\n",
       "      <td>7</td>\n",
       "      <td>5</td>\n",
       "      <td>mar</td>\n",
       "      <td>fri</td>\n",
       "      <td>86.2</td>\n",
       "      <td>26.2</td>\n",
       "      <td>94.3</td>\n",
       "      <td>5.1</td>\n",
       "      <td>8.2</td>\n",
       "      <td>51</td>\n",
       "      <td>6.7</td>\n",
       "      <td>0.0</td>\n",
       "      <td>0.0</td>\n",
       "    </tr>\n",
       "    <tr>\n",
       "      <th>1</th>\n",
       "      <td>7</td>\n",
       "      <td>4</td>\n",
       "      <td>oct</td>\n",
       "      <td>tue</td>\n",
       "      <td>90.6</td>\n",
       "      <td>35.4</td>\n",
       "      <td>669.1</td>\n",
       "      <td>6.7</td>\n",
       "      <td>18.0</td>\n",
       "      <td>33</td>\n",
       "      <td>0.9</td>\n",
       "      <td>0.0</td>\n",
       "      <td>0.0</td>\n",
       "    </tr>\n",
       "    <tr>\n",
       "      <th>2</th>\n",
       "      <td>7</td>\n",
       "      <td>4</td>\n",
       "      <td>oct</td>\n",
       "      <td>sat</td>\n",
       "      <td>90.6</td>\n",
       "      <td>43.7</td>\n",
       "      <td>686.9</td>\n",
       "      <td>6.7</td>\n",
       "      <td>14.6</td>\n",
       "      <td>33</td>\n",
       "      <td>1.3</td>\n",
       "      <td>0.0</td>\n",
       "      <td>0.0</td>\n",
       "    </tr>\n",
       "    <tr>\n",
       "      <th>3</th>\n",
       "      <td>8</td>\n",
       "      <td>6</td>\n",
       "      <td>mar</td>\n",
       "      <td>fri</td>\n",
       "      <td>91.7</td>\n",
       "      <td>33.3</td>\n",
       "      <td>77.5</td>\n",
       "      <td>9.0</td>\n",
       "      <td>8.3</td>\n",
       "      <td>97</td>\n",
       "      <td>4.0</td>\n",
       "      <td>0.2</td>\n",
       "      <td>0.0</td>\n",
       "    </tr>\n",
       "    <tr>\n",
       "      <th>4</th>\n",
       "      <td>8</td>\n",
       "      <td>6</td>\n",
       "      <td>mar</td>\n",
       "      <td>sun</td>\n",
       "      <td>89.3</td>\n",
       "      <td>51.3</td>\n",
       "      <td>102.2</td>\n",
       "      <td>9.6</td>\n",
       "      <td>11.4</td>\n",
       "      <td>99</td>\n",
       "      <td>1.8</td>\n",
       "      <td>0.0</td>\n",
       "      <td>0.0</td>\n",
       "    </tr>\n",
       "  </tbody>\n",
       "</table>\n",
       "</div>"
      ],
      "text/plain": [
       "   X  Y month  day  FFMC   DMC     DC  ISI  temp  RH  wind  rain  area\n",
       "0  7  5   mar  fri  86.2  26.2   94.3  5.1   8.2  51   6.7   0.0   0.0\n",
       "1  7  4   oct  tue  90.6  35.4  669.1  6.7  18.0  33   0.9   0.0   0.0\n",
       "2  7  4   oct  sat  90.6  43.7  686.9  6.7  14.6  33   1.3   0.0   0.0\n",
       "3  8  6   mar  fri  91.7  33.3   77.5  9.0   8.3  97   4.0   0.2   0.0\n",
       "4  8  6   mar  sun  89.3  51.3  102.2  9.6  11.4  99   1.8   0.0   0.0"
      ]
     },
     "execution_count": 1,
     "metadata": {},
     "output_type": "execute_result"
    }
   ],
   "source": [
    "import os\n",
    "import pandas as pd\n",
    "import numpy as np\n",
    "import matplotlib.pyplot as plt\n",
    "import seaborn as sns\n",
    "\n",
    "# Cargarlos desde la web\n",
    "# data = pd.read_csv('http://www.dsi.uminho.pt/~pcortez/forestfires/forestfires.csv')\n",
    "\n",
    "# Desde un archivo local\n",
    "file_path = os.path.join(\"forestfires\", \"data.csv\")\n",
    "data = pd.read_csv(file_path)\n",
    "data.head()"
   ]
  },
  {
   "cell_type": "markdown",
   "metadata": {},
   "source": [
    "## Visualización\n",
    "<a id=\"8\"></a>\n",
    "\n",
    "Esto es solamente un ejemplo de la manipulación de las librerías para graficar. En la celda de abajo, se grafica la distribución de los valores de la *temperatura* y se añaden líneas al gráfico las cuales muestran los indicares de tendencia central así como los límites de los valores atípicos.\n",
    "\n",
    "Para graficar los datos se utilizan estas dos librerías:\n",
    "\n",
    "- [Seaborn](https://seaborn.pydata.org/generated/seaborn.kdeplot.html)\n",
    "\n",
    "- [matplotlib](https://matplotlib.org/api/_as_gen/matplotlib.pyplot.axvline.html?highlight=axvline)\n",
    "\n",
    "\n"
   ]
  },
  {
   "cell_type": "code",
   "execution_count": 4,
   "metadata": {},
   "outputs": [
    {
     "data": {
      "image/png": "[encoded data removed]",
      "text/plain": [
       "<Figure size 432x288 with 1 Axes>"
      ]
     },
     "metadata": {},
     "output_type": "display_data"
    }
   ],
   "source": [
    "import seaborn as sns\n",
    "import matplotlib.pyplot as plt\n",
    "\n",
    "sns.set(color_codes=True)\n",
    "sns.kdeplot(data['temp'], shade=True)\n",
    "\n",
    "# Agrega lineas verticales en los indicadores de la tendencia central\n",
    "plt.axvline(data['temp'].mean(), color='g') # Agrega una línea color verde, la cual indica el promedio\n",
    "plt.axvline(data['temp'].median(), color='black') # Agrega una línea color negro, la cual indica la mediana\n",
    "plt.axvline(data_description['temp']['25%'], color='black') # Agrega una línea color negro, la cual indica el Q1\n",
    "plt.axvline(data_description['temp']['75%'], color='black') # Agrega una línea color negro, la cual indica el Q3\n",
    "\n",
    "IQR = data_description['temp']['75%'] - data_description['temp']['25%']\n",
    "\n",
    "upper_outliers = data_description['temp']['75%'] + 1.5*IQR\n",
    "lower_outliers = data_description['temp']['25%'] - 1.5*IQR\n",
    "\n",
    "# Agrega dos líneas de color rojo, las cuales indican los límites para los valores atípicos\n",
    "plt.axvline(upper_outliers, color='r') \n",
    "plt.axvline(lower_outliers, color='r')\n",
    "plt.show()"
   ]
  },
  {
   "cell_type": "markdown",
   "metadata": {},
   "source": [
    "## DataFrame.describe()\n",
    "<a id=\"3\"></a>\n",
    "\n",
    "Llamando a la función`describe()` de _Pandas_ se obtiene una matriz la cual tiene varios indicadores para cada una de las columnas. Con estos indicaroes se puede tener una visión general de los datos."
   ]
  },
  {
   "cell_type": "code",
   "execution_count": 3,
   "metadata": {
    "scrolled": true
   },
   "outputs": [
    {
     "data": {
      "text/html": [
       "<div>\n",
       "<style scoped>\n",
       "    .dataframe tbody tr th:only-of-type {\n",
       "        vertical-align: middle;\n",
       "    }\n",
       "\n",
       "    .dataframe tbody tr th {\n",
       "        vertical-align: top;\n",
       "    }\n",
       "\n",
       "    .dataframe thead th {\n",
       "        text-align: right;\n",
       "    }\n",
       "</style>\n",
       "<table border=\"1\" class=\"dataframe\">\n",
       "  <thead>\n",
       "    <tr style=\"text-align: right;\">\n",
       "      <th></th>\n",
       "      <th>X</th>\n",
       "      <th>Y</th>\n",
       "      <th>month</th>\n",
       "      <th>day</th>\n",
       "      <th>FFMC</th>\n",
       "      <th>DMC</th>\n",
       "      <th>DC</th>\n",
       "      <th>ISI</th>\n",
       "      <th>temp</th>\n",
       "      <th>RH</th>\n",
       "      <th>wind</th>\n",
       "      <th>rain</th>\n",
       "      <th>area</th>\n",
       "    </tr>\n",
       "  </thead>\n",
       "  <tbody>\n",
       "    <tr>\n",
       "      <th>count</th>\n",
       "      <td>517.000000</td>\n",
       "      <td>517.000000</td>\n",
       "      <td>517</td>\n",
       "      <td>517</td>\n",
       "      <td>517.000000</td>\n",
       "      <td>517.000000</td>\n",
       "      <td>517.000000</td>\n",
       "      <td>517.000000</td>\n",
       "      <td>517.000000</td>\n",
       "      <td>517.000000</td>\n",
       "      <td>517.000000</td>\n",
       "      <td>517.000000</td>\n",
       "      <td>517.000000</td>\n",
       "    </tr>\n",
       "    <tr>\n",
       "      <th>unique</th>\n",
       "      <td>NaN</td>\n",
       "      <td>NaN</td>\n",
       "      <td>12</td>\n",
       "      <td>7</td>\n",
       "      <td>NaN</td>\n",
       "      <td>NaN</td>\n",
       "      <td>NaN</td>\n",
       "      <td>NaN</td>\n",
       "      <td>NaN</td>\n",
       "      <td>NaN</td>\n",
       "      <td>NaN</td>\n",
       "      <td>NaN</td>\n",
       "      <td>NaN</td>\n",
       "    </tr>\n",
       "    <tr>\n",
       "      <th>top</th>\n",
       "      <td>NaN</td>\n",
       "      <td>NaN</td>\n",
       "      <td>aug</td>\n",
       "      <td>sun</td>\n",
       "      <td>NaN</td>\n",
       "      <td>NaN</td>\n",
       "      <td>NaN</td>\n",
       "      <td>NaN</td>\n",
       "      <td>NaN</td>\n",
       "      <td>NaN</td>\n",
       "      <td>NaN</td>\n",
       "      <td>NaN</td>\n",
       "      <td>NaN</td>\n",
       "    </tr>\n",
       "    <tr>\n",
       "      <th>freq</th>\n",
       "      <td>NaN</td>\n",
       "      <td>NaN</td>\n",
       "      <td>184</td>\n",
       "      <td>95</td>\n",
       "      <td>NaN</td>\n",
       "      <td>NaN</td>\n",
       "      <td>NaN</td>\n",
       "      <td>NaN</td>\n",
       "      <td>NaN</td>\n",
       "      <td>NaN</td>\n",
       "      <td>NaN</td>\n",
       "      <td>NaN</td>\n",
       "      <td>NaN</td>\n",
       "    </tr>\n",
       "    <tr>\n",
       "      <th>mean</th>\n",
       "      <td>4.669246</td>\n",
       "      <td>4.299807</td>\n",
       "      <td>NaN</td>\n",
       "      <td>NaN</td>\n",
       "      <td>90.644681</td>\n",
       "      <td>110.872340</td>\n",
       "      <td>547.940039</td>\n",
       "      <td>9.021663</td>\n",
       "      <td>18.889168</td>\n",
       "      <td>44.288201</td>\n",
       "      <td>4.017602</td>\n",
       "      <td>0.021663</td>\n",
       "      <td>12.847292</td>\n",
       "    </tr>\n",
       "    <tr>\n",
       "      <th>std</th>\n",
       "      <td>2.313778</td>\n",
       "      <td>1.229900</td>\n",
       "      <td>NaN</td>\n",
       "      <td>NaN</td>\n",
       "      <td>5.520111</td>\n",
       "      <td>64.046482</td>\n",
       "      <td>248.066192</td>\n",
       "      <td>4.559477</td>\n",
       "      <td>5.806625</td>\n",
       "      <td>16.317469</td>\n",
       "      <td>1.791653</td>\n",
       "      <td>0.295959</td>\n",
       "      <td>63.655818</td>\n",
       "    </tr>\n",
       "    <tr>\n",
       "      <th>min</th>\n",
       "      <td>1.000000</td>\n",
       "      <td>2.000000</td>\n",
       "      <td>NaN</td>\n",
       "      <td>NaN</td>\n",
       "      <td>18.700000</td>\n",
       "      <td>1.100000</td>\n",
       "      <td>7.900000</td>\n",
       "      <td>0.000000</td>\n",
       "      <td>2.200000</td>\n",
       "      <td>15.000000</td>\n",
       "      <td>0.400000</td>\n",
       "      <td>0.000000</td>\n",
       "      <td>0.000000</td>\n",
       "    </tr>\n",
       "    <tr>\n",
       "      <th>25%</th>\n",
       "      <td>3.000000</td>\n",
       "      <td>4.000000</td>\n",
       "      <td>NaN</td>\n",
       "      <td>NaN</td>\n",
       "      <td>90.200000</td>\n",
       "      <td>68.600000</td>\n",
       "      <td>437.700000</td>\n",
       "      <td>6.500000</td>\n",
       "      <td>15.500000</td>\n",
       "      <td>33.000000</td>\n",
       "      <td>2.700000</td>\n",
       "      <td>0.000000</td>\n",
       "      <td>0.000000</td>\n",
       "    </tr>\n",
       "    <tr>\n",
       "      <th>50%</th>\n",
       "      <td>4.000000</td>\n",
       "      <td>4.000000</td>\n",
       "      <td>NaN</td>\n",
       "      <td>NaN</td>\n",
       "      <td>91.600000</td>\n",
       "      <td>108.300000</td>\n",
       "      <td>664.200000</td>\n",
       "      <td>8.400000</td>\n",
       "      <td>19.300000</td>\n",
       "      <td>42.000000</td>\n",
       "      <td>4.000000</td>\n",
       "      <td>0.000000</td>\n",
       "      <td>0.520000</td>\n",
       "    </tr>\n",
       "    <tr>\n",
       "      <th>75%</th>\n",
       "      <td>7.000000</td>\n",
       "      <td>5.000000</td>\n",
       "      <td>NaN</td>\n",
       "      <td>NaN</td>\n",
       "      <td>92.900000</td>\n",
       "      <td>142.400000</td>\n",
       "      <td>713.900000</td>\n",
       "      <td>10.800000</td>\n",
       "      <td>22.800000</td>\n",
       "      <td>53.000000</td>\n",
       "      <td>4.900000</td>\n",
       "      <td>0.000000</td>\n",
       "      <td>6.570000</td>\n",
       "    </tr>\n",
       "    <tr>\n",
       "      <th>max</th>\n",
       "      <td>9.000000</td>\n",
       "      <td>9.000000</td>\n",
       "      <td>NaN</td>\n",
       "      <td>NaN</td>\n",
       "      <td>96.200000</td>\n",
       "      <td>291.300000</td>\n",
       "      <td>860.600000</td>\n",
       "      <td>56.100000</td>\n",
       "      <td>33.300000</td>\n",
       "      <td>100.000000</td>\n",
       "      <td>9.400000</td>\n",
       "      <td>6.400000</td>\n",
       "      <td>1090.840000</td>\n",
       "    </tr>\n",
       "  </tbody>\n",
       "</table>\n",
       "</div>"
      ],
      "text/plain": [
       "                 X           Y month  day        FFMC         DMC          DC  \\\n",
       "count   517.000000  517.000000   517  517  517.000000  517.000000  517.000000   \n",
       "unique         NaN         NaN    12    7         NaN         NaN         NaN   \n",
       "top            NaN         NaN   aug  sun         NaN         NaN         NaN   \n",
       "freq           NaN         NaN   184   95         NaN         NaN         NaN   \n",
       "mean      4.669246    4.299807   NaN  NaN   90.644681  110.872340  547.940039   \n",
       "std       2.313778    1.229900   NaN  NaN    5.520111   64.046482  248.066192   \n",
       "min       1.000000    2.000000   NaN  NaN   18.700000    1.100000    7.900000   \n",
       "25%       3.000000    4.000000   NaN  NaN   90.200000   68.600000  437.700000   \n",
       "50%       4.000000    4.000000   NaN  NaN   91.600000  108.300000  664.200000   \n",
       "75%       7.000000    5.000000   NaN  NaN   92.900000  142.400000  713.900000   \n",
       "max       9.000000    9.000000   NaN  NaN   96.200000  291.300000  860.600000   \n",
       "\n",
       "               ISI        temp          RH        wind        rain  \\\n",
       "count   517.000000  517.000000  517.000000  517.000000  517.000000   \n",
       "unique         NaN         NaN         NaN         NaN         NaN   \n",
       "top            NaN         NaN         NaN         NaN         NaN   \n",
       "freq           NaN         NaN         NaN         NaN         NaN   \n",
       "mean      9.021663   18.889168   44.288201    4.017602    0.021663   \n",
       "std       4.559477    5.806625   16.317469    1.791653    0.295959   \n",
       "min       0.000000    2.200000   15.000000    0.400000    0.000000   \n",
       "25%       6.500000   15.500000   33.000000    2.700000    0.000000   \n",
       "50%       8.400000   19.300000   42.000000    4.000000    0.000000   \n",
       "75%      10.800000   22.800000   53.000000    4.900000    0.000000   \n",
       "max      56.100000   33.300000  100.000000    9.400000    6.400000   \n",
       "\n",
       "               area  \n",
       "count    517.000000  \n",
       "unique          NaN  \n",
       "top             NaN  \n",
       "freq            NaN  \n",
       "mean      12.847292  \n",
       "std       63.655818  \n",
       "min        0.000000  \n",
       "25%        0.000000  \n",
       "50%        0.520000  \n",
       "75%        6.570000  \n",
       "max     1090.840000  "
      ]
     },
     "execution_count": 3,
     "metadata": {},
     "output_type": "execute_result"
    }
   ],
   "source": [
    "data_description = data.describe(include='all')\n",
    "data_description"
   ]
  },
  {
   "cell_type": "markdown",
   "metadata": {},
   "source": [
    "## Indicadores de tendencia central \n",
    "<a id=\"1\"></a>\n",
    "\n",
    "Los indicadores que son sirven para medir la tendencia central son:\n",
    "\n",
    "- **Media**"
   ]
  },
  {
   "cell_type": "code",
   "execution_count": null,
   "metadata": {},
   "outputs": [],
   "source": [
    "from statistics import mean\n",
    "\n",
    "a1 = data['temp'].mean() # utilizando la librería pandas\n",
    "a2 = mean(data['temp'])  # utilizando la librería  statistics\n",
    "a3 = np.mean(data['temp']) # utilizando la librería  numpy\n",
    "\n",
    "print(f'{a1}, {a2}, {a3}')"
   ]
  },
  {
   "cell_type": "markdown",
   "metadata": {},
   "source": [
    "- **Mediana**"
   ]
  },
  {
   "cell_type": "code",
   "execution_count": null,
   "metadata": {},
   "outputs": [],
   "source": [
    "from statistics import median\n",
    "\n",
    "a1 = data['temp'].median() # pandas\n",
    "a2 = median(data['temp'])  # statistics\n",
    "a3 = np.median(data['temp']) # numpy\n",
    "\n",
    "print(f'{a1}, {a2}, {a3}')"
   ]
  },
  {
   "cell_type": "markdown",
   "metadata": {},
   "source": [
    "- **Cuantiles**\n",
    "\n",
    "Son valores que dividen a los datos en cuatro partes iguales.\n",
    "\n",
    "    -1er cuartil (Q1) \t25% de los datos es menor que o igual a este valor.\n",
    "    -2do cuartil (Q2) \tLa mediana. 50% de los datos es menor que o igual a este valor.\n",
    "    -3er cuartil (Q3) \t75% de los datos es menor que o igual a este valor. \n",
    "\n",
    "<img src=\"02-quartiles.png\" style=\"width:600px\"/>"
   ]
  },
  {
   "cell_type": "markdown",
   "metadata": {},
   "source": [
    "## Indicadores de dispersión\n",
    "<a id=\"2\"></a>\n",
    "\n",
    "Estos indicares muestran cuan dispersos están los datos.\n",
    "\n",
    "- **Varianza, desviación estándar**\n",
    "\n",
    "<img src=\"03-dispersion.png\" style=\"width:600px\"/>"
   ]
  },
  {
   "cell_type": "code",
   "execution_count": null,
   "metadata": {},
   "outputs": [],
   "source": [
    "from statistics import stdev\n",
    "from statistics import variance\n",
    "\n",
    "std1 = data['temp'].std() # pandas\n",
    "std2 = stdev(data['temp'])  # statistics\n",
    "std3 = np.std(data['temp']) # numpy\n",
    "\n",
    "varianza1 = data['temp'].var() # pandas\n",
    "varianza2 = variance(data['temp'])  # statistics\n",
    "varianza3 = np.var(data['temp']) # numpy\n",
    "\n",
    "print(f'Desviación estándar: {std1}, {std2}, {std3}')\n",
    "print(f'Varianza: {varianza1}, {varianza2}, {varianza3}')"
   ]
  },
  {
   "cell_type": "markdown",
   "metadata": {},
   "source": [
    "- **Valores atípicos**\n",
    "\n",
    "<img src=\"04-outliers.png\" style=\"width:600px\"/>"
   ]
  },
  {
   "cell_type": "markdown",
   "metadata": {},
   "source": [
    "- **Asimetría (skweness). Grado de simetría de la distribución.**\n",
    "\n",
    "<img src=\"05-skewness.png\" style=\"width:600px\"/>"
   ]
  },
  {
   "cell_type": "code",
   "execution_count": null,
   "metadata": {},
   "outputs": [],
   "source": [
    "from scipy.stats import skew\n",
    "\n",
    "a1 = data['temp'].skew() # pandas\n",
    "a2 = skew(data['temp'])  # scipy\n",
    "\n",
    "print(a1, a2)"
   ]
  },
  {
   "cell_type": "markdown",
   "metadata": {},
   "source": [
    "- **Curtosis. Indicador de la \"anchura\" de una distribución**\n",
    "\n",
    "<img src=\"06-kurtosis.png\" style=\"width:600px\"/>"
   ]
  },
  {
   "cell_type": "code",
   "execution_count": null,
   "metadata": {},
   "outputs": [],
   "source": [
    "from scipy.stats import kurtosis\n",
    "\n",
    "a1 = data['temp'].kurt() # pandas\n",
    "a2 = kurtosis(data['temp'])  # scipy\n",
    "\n",
    "print(a1, a2)"
   ]
  },
  {
   "cell_type": "markdown",
   "metadata": {},
   "source": [
    "## Gráficos de distribución\n",
    "<a id=\"4\"></a>\n",
    "\n",
    "Para visualizar los gráficos, se puede utilizar, en vez de librerias externas como en el ejemplo de arriba, la librería *pandas*. __[Panda's Plots](https://pandas.pydata.org/pandas-docs/stable/reference/api/pandas.DataFrame.plot.html)__ \n",
    "\n",
    "- **[Histograma](https://es.wikipedia.org/wiki/Histograma)**\n",
    "\n",
    "Permite visualizar las frecuencias de diferentes categorías o rangos de valores (clases o bins)\n",
    "\n",
    "<img src=\"07-histograma.png\" style=\"width:400px\"/>\n",
    "\n"
   ]
  },
  {
   "cell_type": "code",
   "execution_count": null,
   "metadata": {},
   "outputs": [],
   "source": [
    "data['temp'].plot.hist(title='Histograma Temp', color='c', bins=20)"
   ]
  },
  {
   "cell_type": "markdown",
   "metadata": {},
   "source": [
    "- __[Diagrama de Densidad](https://es.wikipedia.org/wiki/Funci%C3%B3n_de_densidad_de_probabilidad)__\n",
    "\n",
    "<img src=\"08-density-plot.png\" style=\"width:400px\"/>"
   ]
  },
  {
   "cell_type": "code",
   "execution_count": null,
   "metadata": {},
   "outputs": [],
   "source": [
    "data['temp'].plot.density(title='Densidad Temp', color='c')"
   ]
  },
  {
   "cell_type": "markdown",
   "metadata": {},
   "source": [
    "- __[Diagrama de Caja](https://es.wikipedia.org/wiki/Diagrama_de_caja)__ \n",
    "\n",
    "Este es especialmente útil para la identificación de valores atípicos.\n",
    "\n",
    "<img src=\"09-box-plot.png\" style=\"width:400px\"/>"
   ]
  },
  {
   "cell_type": "code",
   "execution_count": null,
   "metadata": {},
   "outputs": [],
   "source": [
    "data['temp'].plot.box(title='Box Temp', color='c')"
   ]
  },
  {
   "cell_type": "markdown",
   "metadata": {},
   "source": [
    "## Gráficos de comparación\n",
    "<a id=\"5\"></a>\n",
    "\n",
    "__[Panda's Plots](https://pandas.pydata.org/pandas-docs/stable/reference/api/pandas.DataFrame.plot.html)__ \n",
    "\n",
    "- __[Gráfico de Barras](https://es.wikipedia.org/wiki/Diagrama_de_barras)__ \n",
    "\n",
    "Presenta datos **cualitativos** con barras rectangulares con alturas o longitudes proporcionales a los valores que representan. (No son histogramas!!)\n",
    "\n",
    "<img src=\"10-bar-chart.png\" style=\"width:400px\"/>"
   ]
  },
  {
   "cell_type": "code",
   "execution_count": null,
   "metadata": {},
   "outputs": [],
   "source": [
    "df = pd.DataFrame({'lab':['A', 'B', 'C'], 'val':[10, 30, 20]})\n",
    "df.plot.bar(x='lab', y='val', rot=0)"
   ]
  },
  {
   "cell_type": "markdown",
   "metadata": {},
   "source": [
    "- __[Gráfico de lineas](https://en.wikipedia.org/wiki/Line_chart)__\n",
    "\n",
    "Presenta una serie de valores (marcas) conectados por líneas. Se emplean frecuentemente para visualizar tendencias a lo largo del tiempo.\n",
    "\n",
    "<img src=\"11-line-chart.png\" style=\"width:400px\"/>\n",
    "\n",
    "Para ambos tipos de gráficos, se recomienda aplicarlos para un número reducido de variables (~ 6)"
   ]
  },
  {
   "cell_type": "markdown",
   "metadata": {},
   "source": [
    "## Gráficos de composición\n",
    "<a id=\"6\"></a>\n",
    "\n",
    "__[Panda's Plots](https://pandas.pydata.org/pandas-docs/stable/reference/api/pandas.DataFrame.plot.html)__ \n",
    "\n",
    "- __[Torta](https://pandas.pydata.org/pandas-docs/stable/reference/api/pandas.DataFrame.plot.html)__ \n",
    "\n",
    "<img src=\"12-pie-chart.png\" style=\"width:400px\"/>\n"
   ]
  },
  {
   "cell_type": "code",
   "execution_count": null,
   "metadata": {},
   "outputs": [],
   "source": [
    "df = pd.DataFrame({'masa': [0.330, 4.87 , 5.97],\n",
    "                   'radio': [2439.7, 6051.8, 6378.1]},\n",
    "                  index=['Mercurio', 'Venus', 'Tierra'])\n",
    "\n",
    "# Las dos maneras son equivalentes\n",
    "df.plot.pie(y='masa', figsize=(5, 5))\n",
    "df[\"masa\"].plot.pie()"
   ]
  },
  {
   "cell_type": "markdown",
   "metadata": {},
   "source": [
    "- __[Barras apiladas](https://businessq-software.com/2017/02/21/stacked-bar-chart-definition-and-examples-businessq/)__\n",
    "\n",
    "<img src=\"13-stacked-bar.png\" style=\"width:400px\"/>\n"
   ]
  },
  {
   "cell_type": "code",
   "execution_count": null,
   "metadata": {},
   "outputs": [],
   "source": [
    "df = pd.DataFrame({'vestimenta': [8261.68, 7875.87 , 4990.23],\n",
    "                   'equipamiento': [4810.34, 3126.58, 4923.48],\n",
    "                   'accesorios': [1536.57, 2019.81, 1472.59],},\n",
    "                  index=['Cherry St', 'Strawberry Mall', 'Peach St'])\n",
    "df"
   ]
  },
  {
   "cell_type": "code",
   "execution_count": null,
   "metadata": {},
   "outputs": [],
   "source": [
    "df.plot.bar(stacked=True, rot=0)"
   ]
  },
  {
   "cell_type": "markdown",
   "metadata": {},
   "source": [
    "## Utilizando Groupby\n",
    "<a id=\"7\"></a>\n",
    "\n",
    "__[Panda's groupby](https://pandas.pydata.org/pandas-docs/version/0.23.1/api.html#groupby)__ \n",
    "\n",
    "__[Panda's DataFrameGroupBy aggr](https://pandas.pydata.org/pandas-docs/version/0.23.1/generated/pandas.core.groupby.DataFrameGroupBy.agg.html)__\n",
    "\n",
    "La función groupby puede ser beneficiosa. Por ejemplo, si queremos saber qué temperatura promedio tiene cada mes se hace lo siguiente:"
   ]
  },
  {
   "cell_type": "code",
   "execution_count": null,
   "metadata": {},
   "outputs": [],
   "source": [
    "# Este celda agrega una columna month_number la cual tiene el número del mes.\n",
    "# Por ejemplo, para una fila que tiene jan como mes, el valor de month_number será 1.\n",
    "   \n",
    "def month_number(month):\n",
    "    if 'jan' == month:\n",
    "        return 1\n",
    "    elif 'feb' == month:\n",
    "        return 2\n",
    "    elif 'mar' == month:\n",
    "        return 3\n",
    "    elif 'apr' == month:\n",
    "        return 4\n",
    "    elif 'may' == month:\n",
    "        return 5\n",
    "    elif 'jun' == month:\n",
    "        return 6\n",
    "    elif 'jul' == month:\n",
    "        return 7\n",
    "    elif 'aug' == month:\n",
    "        return 8\n",
    "    elif 'sep' == month:\n",
    "        return 9\n",
    "    elif 'oct' == month:\n",
    "        return 10\n",
    "    elif 'nov' == month:\n",
    "        return 11\n",
    "    elif 'dec' == month:\n",
    "        return 12\n",
    "    return 0\n",
    "\n",
    "data[\"month_number\"] = data[\"month\"].map(month_number)"
   ]
  },
  {
   "cell_type": "code",
   "execution_count": null,
   "metadata": {},
   "outputs": [],
   "source": [
    "# Ahora, agruparemos los datos según la nueva columna month_number\n",
    "temperaturas_por_mes = data.groupby(\"month_number\")\n",
    "\n",
    "# Finalmente, sacaremos el promedio de las temperaturas por mes\n",
    "temperaturas_por_mes.agg({'temp' : 'mean'})"
   ]
  }
 ],
 "metadata": {
  "kernelspec": {
   "display_name": "Python 3",
   "language": "python",
   "name": "python3"
  },
  "language_info": {
   "codemirror_mode": {
    "name": "ipython",
    "version": 3
   },
   "file_extension": ".py",
   "mimetype": "text/x-python",
   "name": "python",
   "nbconvert_exporter": "python",
   "pygments_lexer": "ipython3",
   "version": "3.7.6"
  }
 },
 "nbformat": 4,
 "nbformat_minor": 2
}

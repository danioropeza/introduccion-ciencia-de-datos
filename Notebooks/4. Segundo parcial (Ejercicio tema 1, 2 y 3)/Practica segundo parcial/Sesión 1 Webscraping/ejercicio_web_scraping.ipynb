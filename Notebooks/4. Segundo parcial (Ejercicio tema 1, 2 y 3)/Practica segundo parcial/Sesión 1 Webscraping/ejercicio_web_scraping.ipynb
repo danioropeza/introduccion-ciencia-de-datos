{
 "cells": [
  {
   "cell_type": "code",
   "execution_count": 1,
   "metadata": {},
   "outputs": [],
   "source": [
    "#Habilitar intellisense\n",
    "%config IPCompleter.greedy = True"
   ]
  },
  {
   "cell_type": "code",
   "execution_count": 26,
   "metadata": {},
   "outputs": [],
   "source": [
    "#Extrar el nombre, numero de estrellas y cantidad de descargas desde popular_wordpress_plugins.html\n",
    "#Y guardar los resultados en un archivo popular_wordpress_plugins.csv\n",
    "import csv\n",
    "import re\n",
    "import requests\n",
    "from bs4 import BeautifulSoup\n",
    "pagina_wordpress = requests.get(\"http://localhost:8000/Fundamentos%20Extraccion/sesion_01_webscraping/popular_wordpress_plugins.html\")\n",
    "pagina = BeautifulSoup(pagina_wordpress.text, \"html.parser\" )"
   ]
  },
  {
   "cell_type": "code",
   "execution_count": 2,
   "metadata": {},
   "outputs": [
    {
     "ename": "NameError",
     "evalue": "name 'pagina' is not defined",
     "output_type": "error",
     "traceback": [
      "\u001b[1;31m---------------------------------------------------------------------------\u001b[0m",
      "\u001b[1;31mNameError\u001b[0m                                 Traceback (most recent call last)",
      "\u001b[1;32m<ipython-input-2-768390da6a6d>\u001b[0m in \u001b[0;36m<module>\u001b[1;34m\u001b[0m\n\u001b[0;32m     42\u001b[0m        \u001b[1;31m# writer.writerows(filas)\u001b[0m\u001b[1;33m\u001b[0m\u001b[1;33m\u001b[0m\u001b[1;33m\u001b[0m\u001b[0m\n\u001b[0;32m     43\u001b[0m \u001b[1;33m\u001b[0m\u001b[0m\n\u001b[1;32m---> 44\u001b[1;33m \u001b[0mget_items\u001b[0m\u001b[1;33m(\u001b[0m\u001b[1;33m)\u001b[0m\u001b[1;33m\u001b[0m\u001b[1;33m\u001b[0m\u001b[0m\n\u001b[0m\u001b[0;32m     45\u001b[0m \u001b[1;33m\u001b[0m\u001b[0m\n\u001b[0;32m     46\u001b[0m \u001b[1;33m\u001b[0m\u001b[0m\n",
      "\u001b[1;32m<ipython-input-2-768390da6a6d>\u001b[0m in \u001b[0;36mget_items\u001b[1;34m()\u001b[0m\n\u001b[0;32m     30\u001b[0m \u001b[1;33m\u001b[0m\u001b[0m\n\u001b[0;32m     31\u001b[0m \u001b[1;32mdef\u001b[0m \u001b[0mget_items\u001b[0m\u001b[1;33m(\u001b[0m\u001b[1;33m)\u001b[0m\u001b[1;33m:\u001b[0m\u001b[1;33m\u001b[0m\u001b[1;33m\u001b[0m\u001b[0m\n\u001b[1;32m---> 32\u001b[1;33m     \u001b[0mdivs_items\u001b[0m \u001b[1;33m=\u001b[0m \u001b[0mpagina\u001b[0m\u001b[1;33m.\u001b[0m\u001b[0mbody\u001b[0m\u001b[1;33m.\u001b[0m\u001b[0mfind_all\u001b[0m\u001b[1;33m(\u001b[0m\u001b[0mname\u001b[0m\u001b[1;33m=\u001b[0m\u001b[1;34m\"article\"\u001b[0m\u001b[1;33m,\u001b[0m \u001b[0mattrs\u001b[0m\u001b[1;33m=\u001b[0m\u001b[1;33m{\u001b[0m\u001b[1;34m\"class\"\u001b[0m\u001b[1;33m:\u001b[0m\u001b[1;34m\"plugin-card\"\u001b[0m\u001b[1;33m}\u001b[0m\u001b[1;33m)\u001b[0m\u001b[1;33m\u001b[0m\u001b[1;33m\u001b[0m\u001b[0m\n\u001b[0m\u001b[0;32m     33\u001b[0m     \u001b[0mfilas\u001b[0m \u001b[1;33m=\u001b[0m \u001b[1;33m[\u001b[0m\u001b[1;33m]\u001b[0m\u001b[1;33m\u001b[0m\u001b[1;33m\u001b[0m\u001b[0m\n\u001b[0;32m     34\u001b[0m     \u001b[1;32mfor\u001b[0m \u001b[0mdiv_item\u001b[0m \u001b[1;32min\u001b[0m \u001b[0mdivs_items\u001b[0m\u001b[1;33m:\u001b[0m\u001b[1;33m\u001b[0m\u001b[1;33m\u001b[0m\u001b[0m\n",
      "\u001b[1;31mNameError\u001b[0m: name 'pagina' is not defined"
     ]
    }
   ],
   "source": [
    "def extraer_datos(div_item):\n",
    "    nombre = obtener_nombre(div_item)\n",
    "    estrellas = obtener_estrellas(div_item)\n",
    "    descargas = obtener_descargas(div_item)\n",
    "    fila = dict(nombre=nombre,\n",
    "               estrellas=estrellas,\n",
    "               descargas=descargas)\n",
    "    return fila\n",
    "\n",
    "def obtener_nombre(div_item):\n",
    "    try:\n",
    "        nombre = div_item.find(\"h2\", attrs={\"class\":\"entry-title\"}).text\n",
    "    except ValueError:\n",
    "        nombre = \"NULL\"\n",
    "    return nombre\n",
    "\n",
    "def obtener_estrellas(div_item): \n",
    "    try:\n",
    "        estrellas = div_item.find(\"div\", attrs = {\"class\":\"wporg-ratings\"})[\"data-rating\"]\n",
    "    except ValueError:\n",
    "        estrellas = 0\n",
    "    return estrellas\n",
    "\n",
    "def obtener_descargas(div_item):\n",
    "    try:\n",
    "        descargas= div_item.find(\"span\", attrs = {\"class\":\"rating-count\"}).text.strip('()').split(' ')[0]\n",
    "    except ValueError:\n",
    "        descargas = 0\n",
    "    return descargas\n",
    "                \n",
    "def get_items():\n",
    "    divs_items = pagina.body.find_all(name=\"article\", attrs={\"class\":\"plugin-card\"})\n",
    "    filas = []\n",
    "    for div_item in divs_items:\n",
    "        fila = extraer_datos(div_item)\n",
    "        filas.append(fila)\n",
    "    print(filas[0])\n",
    "\n",
    "    #with open(\"datos_plugins.csv\", \"w\") as f:\n",
    "     #   writer = csv.DictWriter(f, fieldnames=fila.keys())\n",
    "      #  writer.writeheader()\n",
    "       # writer.writerows(filas) \n",
    "                \n",
    "get_items()\n",
    "    \n",
    "    "
   ]
  }
 ],
 "metadata": {
  "kernelspec": {
   "display_name": "Python 3",
   "language": "python",
   "name": "python3"
  },
  "language_info": {
   "codemirror_mode": {
    "name": "ipython",
    "version": 3
   },
   "file_extension": ".py",
   "mimetype": "text/x-python",
   "name": "python",
   "nbconvert_exporter": "python",
   "pygments_lexer": "ipython3",
   "version": "3.7.3"
  }
 },
 "nbformat": 4,
 "nbformat_minor": 2
}

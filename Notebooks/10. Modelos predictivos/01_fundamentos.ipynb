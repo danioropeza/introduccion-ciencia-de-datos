{
 "cells": [
  {
   "cell_type": "code",
   "execution_count": 1,
   "metadata": {},
   "outputs": [],
   "source": [
    "#Habilitar intellisense\n",
    "%config IPCompleter.greedy = True"
   ]
  },
  {
   "cell_type": "markdown",
   "metadata": {},
   "source": [
    "## Aprendizaje Automático (Machine Learning)\n",
    "\n",
    "### ¿Qué es aprender?\n",
    "\n",
    "__[Aprendizaje Automático](https://es.wikipedia.org/wiki/Aprendizaje_autom%C3%A1tico)__\n",
    "\n",
    "\n",
    "### Ejemplo de un problema de clasificación supervisado\n",
    "<img src=\"01_spam-detection.png\" style=\"width:600px\"/>\n",
    "\n",
    "### Variables independientes (features) y variable objetivo (response/tag/class)\n",
    "<img src=\"02_features-input-output.png\" style=\"width:600px\"/>\n",
    "\n",
    "<img src=\"03_feature.png\" style=\"width:600px\"/>\n",
    "<hr\\>\n",
    "El proceso de \"entrenamiento\" busca obtener un artefacto que sea capaz de clasificar nuevas observaciones/casos. A mayor cantidad de ejemplos, se espera un mejor desempeño.\n",
    "<img src=\"04_generalizacion.png\" style=\"width:600px\"/>\n",
    "\n",
    "### Aprendizaje supervisado (clasificación vs regresión)\n",
    "__[Algoritmos de aprendizaje supervisado](https://en.wikipedia.org/wiki/Supervised_learning#Algorithms)__\n",
    "\n",
    "<img src=\"05_supervised_classification.png\" style=\"width:600px\"/>\n",
    "<hr\\>\n",
    "<img src=\"06_supervised_regression.png\" style=\"width:600px\"/>\n",
    "\n",
    "### Aprendizaje no supervisado\n",
    "<img src=\"07_unsupervised-clustering.png\" style=\"width:600px\"/>\n"
   ]
  },
  {
   "cell_type": "markdown",
   "metadata": {},
   "source": [
    "## Aprendizaje Automático vs Sistemas Basados en Reglas\n",
    "<img src=\"03_ml_vs_rules.png\" style=\"width:700px\"/>\n",
    "\n",
    "ML. Pro: adecuado (probablemente la única alternativa) en escenarios con reglas dinámicas y dependiente del contexto. Con: requiere cantidad considerable de datos históricos de buena calidad y la selección de buenos vectores de características (esto requiere experiencia y conocimiento de el funcionamiento de los algoritmos de ML)\n",
    "\n",
    "Reglas. Pro: adecuado en escenarios con reglas relativamente estáticas o cuando no se dispone de cantidad considerable de datos históricos (en cuyo caso es la única opción). Con: pobre desempeño a la hora de capturar reglas que dependen del contexto, es muchos escencario se requiere de expertos que provean las reglas."
   ]
  },
  {
   "cell_type": "markdown",
   "metadata": {},
   "source": [
    "## Evaluación del desempeño de un clasificador (binario)\n",
    "\n",
    "### Accuracy (Exactitud)\n",
    "<img src=\"08_accuracy.png\" style=\"width:700px\"/>\n",
    "\n",
    "__[Cuando la exactitud no es suficiente](https://machinelearningmastery.com/classification-accuracy-is-not-enough-more-performance-measures-you-can-use/)__\n",
    "\n",
    "__[Matriz de Confusión](https://es.wikipedia.org/wiki/Matriz_de_confusi%C3%B3n)__\n",
    "\n",
    "\n",
    "###  Precisión\n",
    "<img src=\"09_precision.png\" style=\"width:700px\"/>\n",
    "\n",
    "**¿Qué proporción de clasificaciones positivas fue correcta?**\n",
    "\n",
    "###  Recall (Exhaustividad) \n",
    "<img src=\"10_recall.png\" style=\"width:600px\"/>\n",
    "\n",
    "\n",
    "**¿Qué proporción de positivos reales se clasificó correctamente?**\n",
    "\n",
    "###  Preguntas sobre precisión y exhaustividad\n",
    "\n",
    "Con un clasificador (digamos un test para detectar una enfermedad) de alta exhaustividad, es más o menos probable fallar en la detección de la enfermedad?\n",
    "\n",
    "Con un clasificador (digamos un test para detectar una enfermedad) de alta exhaustividad, es más o menos probable detectar la enfermedad en personas que no la tienen?\n",
    "\n",
    "Si la enfermedad es mortal, quá es preferible: alta Presición o alta Exhaustividad?"
   ]
  },
  {
   "cell_type": "markdown",
   "metadata": {},
   "source": [
    "## Modelo - Linea base"
   ]
  },
  {
   "cell_type": "code",
   "execution_count": 2,
   "metadata": {},
   "outputs": [],
   "source": [
    "import pandas as pd\n",
    "import numpy as np\n",
    "import os"
   ]
  },
  {
   "cell_type": "code",
   "execution_count": 3,
   "metadata": {},
   "outputs": [],
   "source": [
    "df_entrenamiento = pd.read_csv(os.path.join(\"procesado\", \"train.csv\"), index_col='PassengerId')"
   ]
  },
  {
   "cell_type": "code",
   "execution_count": 4,
   "metadata": {},
   "outputs": [
    {
     "name": "stdout",
     "output_type": "stream",
     "text": [
      "<class 'pandas.core.frame.DataFrame'>\n",
      "Int64Index: 891 entries, 1 to 891\n",
      "Data columns (total 33 columns):\n",
      "Survived              891 non-null int64\n",
      "Age                   891 non-null float64\n",
      "Fare                  891 non-null float64\n",
      "FamilySize            891 non-null int64\n",
      "IsMother              891 non-null int64\n",
      "IsMale                891 non-null int64\n",
      "Deck_A                891 non-null float64\n",
      "Deck_B                891 non-null float64\n",
      "Deck_C                891 non-null float64\n",
      "Deck_D                891 non-null float64\n",
      "Deck_E                891 non-null float64\n",
      "Deck_F                891 non-null float64\n",
      "Deck_G                891 non-null float64\n",
      "Deck_Z                891 non-null float64\n",
      "Pclass_1              891 non-null float64\n",
      "Pclass_2              891 non-null float64\n",
      "Pclass_3              891 non-null float64\n",
      "Title_Lady            891 non-null float64\n",
      "Title_Master          891 non-null float64\n",
      "Title_Miss            891 non-null float64\n",
      "Title_Mr              891 non-null float64\n",
      "Title_Mrs             891 non-null float64\n",
      "Title_Officer         891 non-null float64\n",
      "Title_Sir             891 non-null float64\n",
      "Fare_Bin_very_low     891 non-null float64\n",
      "Fare_Bin_low          891 non-null float64\n",
      "Fare_Bin_high         891 non-null float64\n",
      "Fare_Bin_very_high    891 non-null float64\n",
      "Embarked_C            891 non-null float64\n",
      "Embarked_Q            891 non-null float64\n",
      "Embarked_S            891 non-null float64\n",
      "AgeState_Adult        891 non-null float64\n",
      "AgeState_Child        891 non-null float64\n",
      "dtypes: float64(29), int64(4)\n",
      "memory usage: 236.7 KB\n"
     ]
    }
   ],
   "source": [
    "df_entrenamiento.info()"
   ]
  },
  {
   "cell_type": "code",
   "execution_count": 5,
   "metadata": {},
   "outputs": [
    {
     "data": {
      "text/html": [
       "<div>\n",
       "<style scoped>\n",
       "    .dataframe tbody tr th:only-of-type {\n",
       "        vertical-align: middle;\n",
       "    }\n",
       "\n",
       "    .dataframe tbody tr th {\n",
       "        vertical-align: top;\n",
       "    }\n",
       "\n",
       "    .dataframe thead th {\n",
       "        text-align: right;\n",
       "    }\n",
       "</style>\n",
       "<table border=\"1\" class=\"dataframe\">\n",
       "  <thead>\n",
       "    <tr style=\"text-align: right;\">\n",
       "      <th></th>\n",
       "      <th>Survived</th>\n",
       "      <th>Age</th>\n",
       "      <th>Fare</th>\n",
       "      <th>FamilySize</th>\n",
       "      <th>IsMother</th>\n",
       "      <th>IsMale</th>\n",
       "      <th>Deck_A</th>\n",
       "      <th>Deck_B</th>\n",
       "      <th>Deck_C</th>\n",
       "      <th>Deck_D</th>\n",
       "      <th>...</th>\n",
       "      <th>Title_Sir</th>\n",
       "      <th>Fare_Bin_very_low</th>\n",
       "      <th>Fare_Bin_low</th>\n",
       "      <th>Fare_Bin_high</th>\n",
       "      <th>Fare_Bin_very_high</th>\n",
       "      <th>Embarked_C</th>\n",
       "      <th>Embarked_Q</th>\n",
       "      <th>Embarked_S</th>\n",
       "      <th>AgeState_Adult</th>\n",
       "      <th>AgeState_Child</th>\n",
       "    </tr>\n",
       "    <tr>\n",
       "      <th>PassengerId</th>\n",
       "      <th></th>\n",
       "      <th></th>\n",
       "      <th></th>\n",
       "      <th></th>\n",
       "      <th></th>\n",
       "      <th></th>\n",
       "      <th></th>\n",
       "      <th></th>\n",
       "      <th></th>\n",
       "      <th></th>\n",
       "      <th></th>\n",
       "      <th></th>\n",
       "      <th></th>\n",
       "      <th></th>\n",
       "      <th></th>\n",
       "      <th></th>\n",
       "      <th></th>\n",
       "      <th></th>\n",
       "      <th></th>\n",
       "      <th></th>\n",
       "      <th></th>\n",
       "    </tr>\n",
       "  </thead>\n",
       "  <tbody>\n",
       "    <tr>\n",
       "      <th>1</th>\n",
       "      <td>0</td>\n",
       "      <td>22.0</td>\n",
       "      <td>7.2500</td>\n",
       "      <td>2</td>\n",
       "      <td>0</td>\n",
       "      <td>1</td>\n",
       "      <td>0.0</td>\n",
       "      <td>0.0</td>\n",
       "      <td>0.0</td>\n",
       "      <td>0.0</td>\n",
       "      <td>...</td>\n",
       "      <td>0.0</td>\n",
       "      <td>1.0</td>\n",
       "      <td>0.0</td>\n",
       "      <td>0.0</td>\n",
       "      <td>0.0</td>\n",
       "      <td>0.0</td>\n",
       "      <td>0.0</td>\n",
       "      <td>1.0</td>\n",
       "      <td>1.0</td>\n",
       "      <td>0.0</td>\n",
       "    </tr>\n",
       "    <tr>\n",
       "      <th>2</th>\n",
       "      <td>1</td>\n",
       "      <td>38.0</td>\n",
       "      <td>71.2833</td>\n",
       "      <td>2</td>\n",
       "      <td>0</td>\n",
       "      <td>0</td>\n",
       "      <td>0.0</td>\n",
       "      <td>0.0</td>\n",
       "      <td>1.0</td>\n",
       "      <td>0.0</td>\n",
       "      <td>...</td>\n",
       "      <td>0.0</td>\n",
       "      <td>0.0</td>\n",
       "      <td>0.0</td>\n",
       "      <td>0.0</td>\n",
       "      <td>1.0</td>\n",
       "      <td>1.0</td>\n",
       "      <td>0.0</td>\n",
       "      <td>0.0</td>\n",
       "      <td>1.0</td>\n",
       "      <td>0.0</td>\n",
       "    </tr>\n",
       "    <tr>\n",
       "      <th>3</th>\n",
       "      <td>1</td>\n",
       "      <td>26.0</td>\n",
       "      <td>7.9250</td>\n",
       "      <td>1</td>\n",
       "      <td>0</td>\n",
       "      <td>0</td>\n",
       "      <td>0.0</td>\n",
       "      <td>0.0</td>\n",
       "      <td>0.0</td>\n",
       "      <td>0.0</td>\n",
       "      <td>...</td>\n",
       "      <td>0.0</td>\n",
       "      <td>0.0</td>\n",
       "      <td>1.0</td>\n",
       "      <td>0.0</td>\n",
       "      <td>0.0</td>\n",
       "      <td>0.0</td>\n",
       "      <td>0.0</td>\n",
       "      <td>1.0</td>\n",
       "      <td>1.0</td>\n",
       "      <td>0.0</td>\n",
       "    </tr>\n",
       "    <tr>\n",
       "      <th>4</th>\n",
       "      <td>1</td>\n",
       "      <td>35.0</td>\n",
       "      <td>53.1000</td>\n",
       "      <td>2</td>\n",
       "      <td>0</td>\n",
       "      <td>0</td>\n",
       "      <td>0.0</td>\n",
       "      <td>0.0</td>\n",
       "      <td>1.0</td>\n",
       "      <td>0.0</td>\n",
       "      <td>...</td>\n",
       "      <td>0.0</td>\n",
       "      <td>0.0</td>\n",
       "      <td>0.0</td>\n",
       "      <td>0.0</td>\n",
       "      <td>1.0</td>\n",
       "      <td>0.0</td>\n",
       "      <td>0.0</td>\n",
       "      <td>1.0</td>\n",
       "      <td>1.0</td>\n",
       "      <td>0.0</td>\n",
       "    </tr>\n",
       "    <tr>\n",
       "      <th>5</th>\n",
       "      <td>0</td>\n",
       "      <td>35.0</td>\n",
       "      <td>8.0500</td>\n",
       "      <td>1</td>\n",
       "      <td>0</td>\n",
       "      <td>1</td>\n",
       "      <td>0.0</td>\n",
       "      <td>0.0</td>\n",
       "      <td>0.0</td>\n",
       "      <td>0.0</td>\n",
       "      <td>...</td>\n",
       "      <td>0.0</td>\n",
       "      <td>0.0</td>\n",
       "      <td>1.0</td>\n",
       "      <td>0.0</td>\n",
       "      <td>0.0</td>\n",
       "      <td>0.0</td>\n",
       "      <td>0.0</td>\n",
       "      <td>1.0</td>\n",
       "      <td>1.0</td>\n",
       "      <td>0.0</td>\n",
       "    </tr>\n",
       "  </tbody>\n",
       "</table>\n",
       "<p>5 rows × 33 columns</p>\n",
       "</div>"
      ],
      "text/plain": [
       "             Survived   Age     Fare  FamilySize  IsMother  IsMale  Deck_A  \\\n",
       "PassengerId                                                                  \n",
       "1                   0  22.0   7.2500           2         0       1     0.0   \n",
       "2                   1  38.0  71.2833           2         0       0     0.0   \n",
       "3                   1  26.0   7.9250           1         0       0     0.0   \n",
       "4                   1  35.0  53.1000           2         0       0     0.0   \n",
       "5                   0  35.0   8.0500           1         0       1     0.0   \n",
       "\n",
       "             Deck_B  Deck_C  Deck_D  ...  Title_Sir  Fare_Bin_very_low  \\\n",
       "PassengerId                          ...                                 \n",
       "1               0.0     0.0     0.0  ...        0.0                1.0   \n",
       "2               0.0     1.0     0.0  ...        0.0                0.0   \n",
       "3               0.0     0.0     0.0  ...        0.0                0.0   \n",
       "4               0.0     1.0     0.0  ...        0.0                0.0   \n",
       "5               0.0     0.0     0.0  ...        0.0                0.0   \n",
       "\n",
       "             Fare_Bin_low  Fare_Bin_high  Fare_Bin_very_high  Embarked_C  \\\n",
       "PassengerId                                                                \n",
       "1                     0.0            0.0                 0.0         0.0   \n",
       "2                     0.0            0.0                 1.0         1.0   \n",
       "3                     1.0            0.0                 0.0         0.0   \n",
       "4                     0.0            0.0                 1.0         0.0   \n",
       "5                     1.0            0.0                 0.0         0.0   \n",
       "\n",
       "             Embarked_Q  Embarked_S  AgeState_Adult  AgeState_Child  \n",
       "PassengerId                                                          \n",
       "1                   0.0         1.0             1.0             0.0  \n",
       "2                   0.0         0.0             1.0             0.0  \n",
       "3                   0.0         1.0             1.0             0.0  \n",
       "4                   0.0         1.0             1.0             0.0  \n",
       "5                   0.0         1.0             1.0             0.0  \n",
       "\n",
       "[5 rows x 33 columns]"
      ]
     },
     "execution_count": 5,
     "metadata": {},
     "output_type": "execute_result"
    }
   ],
   "source": [
    "df_entrenamiento.head()"
   ]
  },
  {
   "cell_type": "markdown",
   "metadata": {},
   "source": [
    "## Division Entrenamiento / Test (train - test split)"
   ]
  },
  {
   "cell_type": "code",
   "execution_count": 10,
   "metadata": {},
   "outputs": [],
   "source": [
    "#Separar las caracteristicas de la variable de salida\n",
    "#https://pandas.pydata.org/pandas-docs/stable/reference/api/pandas.Series.ravel.html\n",
    "X = df_entrenamiento.loc[:,'Age':].to_numpy().astype('float') #convertir a una matriz numpy\n",
    "y = df_entrenamiento['Survived'].ravel() #convertir a un vector numpy"
   ]
  },
  {
   "cell_type": "code",
   "execution_count": 6,
   "metadata": {},
   "outputs": [
    {
     "name": "stdout",
     "output_type": "stream",
     "text": [
      "(891, 32) (891,)\n"
     ]
    }
   ],
   "source": [
    "print(X.shape, y.shape)"
   ]
  },
  {
   "cell_type": "code",
   "execution_count": 7,
   "metadata": {},
   "outputs": [
    {
     "name": "stdout",
     "output_type": "stream",
     "text": [
      "<class 'numpy.ndarray'> <class 'numpy.ndarray'>\n"
     ]
    }
   ],
   "source": [
    "print(type(X), type(y))"
   ]
  },
  {
   "cell_type": "code",
   "execution_count": 11,
   "metadata": {},
   "outputs": [
    {
     "name": "stdout",
     "output_type": "stream",
     "text": [
      "(712, 32) (712,)\n",
      "(179, 32) (179,)\n"
     ]
    }
   ],
   "source": [
    "from sklearn.model_selection import train_test_split\n",
    "X_train, X_test, y_train, y_test = train_test_split(X, y, test_size=0.2, random_state=0)\n",
    "print(X_train.shape, y_train.shape)\n",
    "print(X_test.shape, y_test.shape)"
   ]
  },
  {
   "cell_type": "code",
   "execution_count": 12,
   "metadata": {},
   "outputs": [
    {
     "name": "stdout",
     "output_type": "stream",
     "text": [
      "media de supervivencia en el conjunto de entrenamiento : 0.383\n",
      "media de supervivencia en el conjunto de prueba : 0.385\n"
     ]
    }
   ],
   "source": [
    "# Ver si no se trata de un problema con clases muy \"desbalanceadas\"\n",
    "print('media de supervivencia en el conjunto de entrenamiento : {0:.3f}'.format(np.mean(y_train)))\n",
    "print('media de supervivencia en el conjunto de prueba : {0:.3f}'.format(np.mean(y_test)))"
   ]
  },
  {
   "cell_type": "markdown",
   "metadata": {},
   "source": [
    "## Clasificador linea base"
   ]
  },
  {
   "cell_type": "code",
   "execution_count": 7,
   "metadata": {},
   "outputs": [],
   "source": [
    "# importar el algoritmo de clasificación\n",
    "from sklearn.dummy import DummyClassifier"
   ]
  },
  {
   "cell_type": "code",
   "execution_count": 8,
   "metadata": {},
   "outputs": [],
   "source": [
    "# Crear el clasificador\n",
    "clasificador_lineabase = DummyClassifier(strategy='most_frequent', random_state=0)"
   ]
  },
  {
   "cell_type": "code",
   "execution_count": 13,
   "metadata": {},
   "outputs": [
    {
     "data": {
      "text/plain": [
       "DummyClassifier(constant=None, random_state=0, strategy='most_frequent')"
      ]
     },
     "execution_count": 13,
     "metadata": {},
     "output_type": "execute_result"
    }
   ],
   "source": [
    "# \"entrenar\" el clasificador\n",
    "clasificador_lineabase.fit(X_train, y_train)"
   ]
  },
  {
   "cell_type": "code",
   "execution_count": 14,
   "metadata": {},
   "outputs": [
    {
     "name": "stdout",
     "output_type": "stream",
     "text": [
      "accuracy del clasificador : 0.61\n"
     ]
    }
   ],
   "source": [
    "# El método \"score\" devuelve Accuracy (exactitud) del clasificador linea base\n",
    "# Accuracy obtenido sólo con devolver la clasificación con mayor frecuencia\n",
    "# Se debe superar este valor empleando Machine Learning.\n",
    "print('accuracy del clasificador : {0:.2f}'.format(clasificador_lineabase.score(X_test, y_test)))"
   ]
  },
  {
   "cell_type": "code",
   "execution_count": 15,
   "metadata": {},
   "outputs": [],
   "source": [
    "from sklearn.metrics import accuracy_score, confusion_matrix, precision_score, recall_score, f1_score"
   ]
  },
  {
   "cell_type": "code",
   "execution_count": 16,
   "metadata": {},
   "outputs": [
    {
     "name": "stdout",
     "output_type": "stream",
     "text": [
      "accuracy del clasificador : 0.61\n"
     ]
    }
   ],
   "source": [
    "#La función compara las clasificaciones conocidas (del conjunto de prueba) \n",
    "# con las predicciones hechas por el clasificador para los ejemplos del conjunto de prueba\n",
    "print('accuracy del clasificador : {0:.2f}'.format(accuracy_score(y_test, clasificador_lineabase.predict(X_test))))"
   ]
  },
  {
   "cell_type": "code",
   "execution_count": 17,
   "metadata": {},
   "outputs": [
    {
     "name": "stdout",
     "output_type": "stream",
     "text": [
      "matriz de confusión del clasificador: \n",
      " [[110   0]\n",
      " [ 69   0]]\n"
     ]
    }
   ],
   "source": [
    "# matriz de confusión\n",
    "print('matriz de confusión del clasificador: \\n {0}'.format(confusion_matrix(y_test, clasificador_lineabase.predict(X_test))))"
   ]
  },
  {
   "cell_type": "code",
   "execution_count": 18,
   "metadata": {},
   "outputs": [
    {
     "name": "stdout",
     "output_type": "stream",
     "text": [
      "precision del clasificador : 0.00\n",
      "recall del clasificador : 0.00\n"
     ]
    },
    {
     "name": "stderr",
     "output_type": "stream",
     "text": [
      "C:\\ProgramData\\Anaconda3\\lib\\site-packages\\sklearn\\metrics\\classification.py:1437: UndefinedMetricWarning: Precision is ill-defined and being set to 0.0 due to no predicted samples.\n",
      "  'precision', 'predicted', average, warn_for)\n"
     ]
    }
   ],
   "source": [
    "# precision y recall\n",
    "print('precision del clasificador : {0:.2f}'.format(precision_score(y_test, clasificador_lineabase.predict(X_test))))\n",
    "print('recall del clasificador : {0:.2f}'.format(recall_score(y_test, clasificador_lineabase.predict(X_test))))"
   ]
  }
 ],
 "metadata": {
  "kernelspec": {
   "display_name": "Python 3",
   "language": "python",
   "name": "python3"
  },
  "language_info": {
   "codemirror_mode": {
    "name": "ipython",
    "version": 3
   },
   "file_extension": ".py",
   "mimetype": "text/x-python",
   "name": "python",
   "nbconvert_exporter": "python",
   "pygments_lexer": "ipython3",
   "version": "3.7.3"
  }
 },
 "nbformat": 4,
 "nbformat_minor": 2
}

{
 "cells": [
  {
   "cell_type": "code",
   "execution_count": 1,
   "metadata": {},
   "outputs": [],
   "source": [
    "#Habilitar intellisense\n",
    "%config IPCompleter.greedy = True"
   ]
  },
  {
   "cell_type": "markdown",
   "metadata": {},
   "source": [
    "## Regresión logística\n",
    "\n",
    "Es un algoritmo para obtener un clasificador binario. \n",
    "\n",
    "La regresión logística es bastante efectiva en situaciones en las que la relación entre la **probabilidad** de lograr una meta/objetivo (Y) está vinculada a los recursos necesarios (X) de manera no lineal donde una disminución/aumento de cierto recurso más allá de cierto umbral disminuye/aumenta drásticamente la probabilidad de lograr el objetivo.\n",
    "\n",
    "\n",
    "<img src=\"logistica\\01-lineal-vs-logistica.png\" style=\"width:600px\"/>\n",
    "\n",
    "\n",
    "<img src=\"logistica\\02-regresion-logistica.png\" style=\"width:600px\"/>\n",
    "\n",
    "\n",
    "Los clasificadores binaros basados en regresión logística clasifican las observaciones de acuerdo a un umbral típicamente 0.5 (50%).\n",
    "\n",
    "Hay dos técnicas comunmente empleadas para obtener los coeficientes de regresión. __[MLE](https://es.wikipedia.org/wiki/M%C3%A1xima_verosimilitud)__ y __[mínimos cuadrados](https://es.wikipedia.org/wiki/M%C3%ADnimos_cuadrados)__ (luego de convertir la relación establecida por la curva \"S\" a una relación lineal)\n",
    "\n",
    "\n",
    "__[Scikit Learn - Regresión logística](https://scikit-learn.org/stable/modules/generated/sklearn.linear_model.LogisticRegression.html)__"
   ]
  },
  {
   "cell_type": "code",
   "execution_count": 33,
   "metadata": {},
   "outputs": [],
   "source": [
    "import pandas as pd\n",
    "import numpy as np\n",
    "import os"
   ]
  },
  {
   "cell_type": "code",
   "execution_count": 34,
   "metadata": {},
   "outputs": [],
   "source": [
    "df_entrenamiento = pd.read_csv(os.path.join(\"procesado\", \"train.csv\"), index_col='PassengerId')"
   ]
  },
  {
   "cell_type": "code",
   "execution_count": 35,
   "metadata": {},
   "outputs": [
    {
     "data": {
      "text/html": [
       "<div>\n",
       "<style scoped>\n",
       "    .dataframe tbody tr th:only-of-type {\n",
       "        vertical-align: middle;\n",
       "    }\n",
       "\n",
       "    .dataframe tbody tr th {\n",
       "        vertical-align: top;\n",
       "    }\n",
       "\n",
       "    .dataframe thead th {\n",
       "        text-align: right;\n",
       "    }\n",
       "</style>\n",
       "<table border=\"1\" class=\"dataframe\">\n",
       "  <thead>\n",
       "    <tr style=\"text-align: right;\">\n",
       "      <th></th>\n",
       "      <th>Survived</th>\n",
       "      <th>Age</th>\n",
       "      <th>Fare</th>\n",
       "      <th>FamilySize</th>\n",
       "      <th>IsMother</th>\n",
       "      <th>IsMale</th>\n",
       "      <th>Deck_A</th>\n",
       "      <th>Deck_B</th>\n",
       "      <th>Deck_C</th>\n",
       "      <th>Deck_D</th>\n",
       "      <th>...</th>\n",
       "      <th>Title_Sir</th>\n",
       "      <th>Fare_Bin_very_low</th>\n",
       "      <th>Fare_Bin_low</th>\n",
       "      <th>Fare_Bin_high</th>\n",
       "      <th>Fare_Bin_very_high</th>\n",
       "      <th>Embarked_C</th>\n",
       "      <th>Embarked_Q</th>\n",
       "      <th>Embarked_S</th>\n",
       "      <th>AgeState_Adult</th>\n",
       "      <th>AgeState_Child</th>\n",
       "    </tr>\n",
       "    <tr>\n",
       "      <th>PassengerId</th>\n",
       "      <th></th>\n",
       "      <th></th>\n",
       "      <th></th>\n",
       "      <th></th>\n",
       "      <th></th>\n",
       "      <th></th>\n",
       "      <th></th>\n",
       "      <th></th>\n",
       "      <th></th>\n",
       "      <th></th>\n",
       "      <th></th>\n",
       "      <th></th>\n",
       "      <th></th>\n",
       "      <th></th>\n",
       "      <th></th>\n",
       "      <th></th>\n",
       "      <th></th>\n",
       "      <th></th>\n",
       "      <th></th>\n",
       "      <th></th>\n",
       "      <th></th>\n",
       "    </tr>\n",
       "  </thead>\n",
       "  <tbody>\n",
       "    <tr>\n",
       "      <th>1</th>\n",
       "      <td>0</td>\n",
       "      <td>22.0</td>\n",
       "      <td>7.2500</td>\n",
       "      <td>2</td>\n",
       "      <td>0</td>\n",
       "      <td>1</td>\n",
       "      <td>0.0</td>\n",
       "      <td>0.0</td>\n",
       "      <td>0.0</td>\n",
       "      <td>0.0</td>\n",
       "      <td>...</td>\n",
       "      <td>0.0</td>\n",
       "      <td>1.0</td>\n",
       "      <td>0.0</td>\n",
       "      <td>0.0</td>\n",
       "      <td>0.0</td>\n",
       "      <td>0.0</td>\n",
       "      <td>0.0</td>\n",
       "      <td>1.0</td>\n",
       "      <td>1.0</td>\n",
       "      <td>0.0</td>\n",
       "    </tr>\n",
       "    <tr>\n",
       "      <th>2</th>\n",
       "      <td>1</td>\n",
       "      <td>38.0</td>\n",
       "      <td>71.2833</td>\n",
       "      <td>2</td>\n",
       "      <td>0</td>\n",
       "      <td>0</td>\n",
       "      <td>0.0</td>\n",
       "      <td>0.0</td>\n",
       "      <td>1.0</td>\n",
       "      <td>0.0</td>\n",
       "      <td>...</td>\n",
       "      <td>0.0</td>\n",
       "      <td>0.0</td>\n",
       "      <td>0.0</td>\n",
       "      <td>0.0</td>\n",
       "      <td>1.0</td>\n",
       "      <td>1.0</td>\n",
       "      <td>0.0</td>\n",
       "      <td>0.0</td>\n",
       "      <td>1.0</td>\n",
       "      <td>0.0</td>\n",
       "    </tr>\n",
       "    <tr>\n",
       "      <th>3</th>\n",
       "      <td>1</td>\n",
       "      <td>26.0</td>\n",
       "      <td>7.9250</td>\n",
       "      <td>1</td>\n",
       "      <td>0</td>\n",
       "      <td>0</td>\n",
       "      <td>0.0</td>\n",
       "      <td>0.0</td>\n",
       "      <td>0.0</td>\n",
       "      <td>0.0</td>\n",
       "      <td>...</td>\n",
       "      <td>0.0</td>\n",
       "      <td>0.0</td>\n",
       "      <td>1.0</td>\n",
       "      <td>0.0</td>\n",
       "      <td>0.0</td>\n",
       "      <td>0.0</td>\n",
       "      <td>0.0</td>\n",
       "      <td>1.0</td>\n",
       "      <td>1.0</td>\n",
       "      <td>0.0</td>\n",
       "    </tr>\n",
       "    <tr>\n",
       "      <th>4</th>\n",
       "      <td>1</td>\n",
       "      <td>35.0</td>\n",
       "      <td>53.1000</td>\n",
       "      <td>2</td>\n",
       "      <td>0</td>\n",
       "      <td>0</td>\n",
       "      <td>0.0</td>\n",
       "      <td>0.0</td>\n",
       "      <td>1.0</td>\n",
       "      <td>0.0</td>\n",
       "      <td>...</td>\n",
       "      <td>0.0</td>\n",
       "      <td>0.0</td>\n",
       "      <td>0.0</td>\n",
       "      <td>0.0</td>\n",
       "      <td>1.0</td>\n",
       "      <td>0.0</td>\n",
       "      <td>0.0</td>\n",
       "      <td>1.0</td>\n",
       "      <td>1.0</td>\n",
       "      <td>0.0</td>\n",
       "    </tr>\n",
       "    <tr>\n",
       "      <th>5</th>\n",
       "      <td>0</td>\n",
       "      <td>35.0</td>\n",
       "      <td>8.0500</td>\n",
       "      <td>1</td>\n",
       "      <td>0</td>\n",
       "      <td>1</td>\n",
       "      <td>0.0</td>\n",
       "      <td>0.0</td>\n",
       "      <td>0.0</td>\n",
       "      <td>0.0</td>\n",
       "      <td>...</td>\n",
       "      <td>0.0</td>\n",
       "      <td>0.0</td>\n",
       "      <td>1.0</td>\n",
       "      <td>0.0</td>\n",
       "      <td>0.0</td>\n",
       "      <td>0.0</td>\n",
       "      <td>0.0</td>\n",
       "      <td>1.0</td>\n",
       "      <td>1.0</td>\n",
       "      <td>0.0</td>\n",
       "    </tr>\n",
       "  </tbody>\n",
       "</table>\n",
       "<p>5 rows × 33 columns</p>\n",
       "</div>"
      ],
      "text/plain": [
       "             Survived   Age     Fare  FamilySize  IsMother  IsMale  Deck_A  \\\n",
       "PassengerId                                                                  \n",
       "1                   0  22.0   7.2500           2         0       1     0.0   \n",
       "2                   1  38.0  71.2833           2         0       0     0.0   \n",
       "3                   1  26.0   7.9250           1         0       0     0.0   \n",
       "4                   1  35.0  53.1000           2         0       0     0.0   \n",
       "5                   0  35.0   8.0500           1         0       1     0.0   \n",
       "\n",
       "             Deck_B  Deck_C  Deck_D  ...  Title_Sir  Fare_Bin_very_low  \\\n",
       "PassengerId                          ...                                 \n",
       "1               0.0     0.0     0.0  ...        0.0                1.0   \n",
       "2               0.0     1.0     0.0  ...        0.0                0.0   \n",
       "3               0.0     0.0     0.0  ...        0.0                0.0   \n",
       "4               0.0     1.0     0.0  ...        0.0                0.0   \n",
       "5               0.0     0.0     0.0  ...        0.0                0.0   \n",
       "\n",
       "             Fare_Bin_low  Fare_Bin_high  Fare_Bin_very_high  Embarked_C  \\\n",
       "PassengerId                                                                \n",
       "1                     0.0            0.0                 0.0         0.0   \n",
       "2                     0.0            0.0                 1.0         1.0   \n",
       "3                     1.0            0.0                 0.0         0.0   \n",
       "4                     0.0            0.0                 1.0         0.0   \n",
       "5                     1.0            0.0                 0.0         0.0   \n",
       "\n",
       "             Embarked_Q  Embarked_S  AgeState_Adult  AgeState_Child  \n",
       "PassengerId                                                          \n",
       "1                   0.0         1.0             1.0             0.0  \n",
       "2                   0.0         0.0             1.0             0.0  \n",
       "3                   0.0         1.0             1.0             0.0  \n",
       "4                   0.0         1.0             1.0             0.0  \n",
       "5                   0.0         1.0             1.0             0.0  \n",
       "\n",
       "[5 rows x 33 columns]"
      ]
     },
     "execution_count": 35,
     "metadata": {},
     "output_type": "execute_result"
    }
   ],
   "source": [
    "df_entrenamiento.head()"
   ]
  },
  {
   "cell_type": "code",
   "execution_count": 36,
   "metadata": {},
   "outputs": [],
   "source": [
    "X = df_entrenamiento.loc[:,'Age':].to_numpy().astype('float')\n",
    "y = df_entrenamiento['Survived'].ravel() "
   ]
  },
  {
   "cell_type": "code",
   "execution_count": 37,
   "metadata": {},
   "outputs": [
    {
     "name": "stdout",
     "output_type": "stream",
     "text": [
      "(712, 32) (712,)\n",
      "(179, 32) (179,)\n"
     ]
    }
   ],
   "source": [
    "from sklearn.model_selection import train_test_split\n",
    "X_train, X_test, y_train, y_test = train_test_split(X, y, test_size=0.2, random_state=0)\n",
    "print(X_train.shape, y_train.shape)\n",
    "print(X_test.shape, y_test.shape)"
   ]
  },
  {
   "cell_type": "code",
   "execution_count": 13,
   "metadata": {},
   "outputs": [],
   "source": [
    "from sklearn.linear_model import LogisticRegression"
   ]
  },
  {
   "cell_type": "code",
   "execution_count": 14,
   "metadata": {},
   "outputs": [],
   "source": [
    "# crear el clasificador\n",
    "clasificador_reg_log = LogisticRegression(random_state=0, solver='liblinear')"
   ]
  },
  {
   "cell_type": "code",
   "execution_count": 15,
   "metadata": {},
   "outputs": [
    {
     "data": {
      "text/plain": [
       "LogisticRegression(C=1.0, class_weight=None, dual=False, fit_intercept=True,\n",
       "                   intercept_scaling=1, l1_ratio=None, max_iter=100,\n",
       "                   multi_class='warn', n_jobs=None, penalty='l2',\n",
       "                   random_state=0, solver='liblinear', tol=0.0001, verbose=0,\n",
       "                   warm_start=False)"
      ]
     },
     "execution_count": 15,
     "metadata": {},
     "output_type": "execute_result"
    }
   ],
   "source": [
    "# entrenar el clasificador\n",
    "clasificador_reg_log.fit(X_train,y_train)"
   ]
  },
  {
   "cell_type": "code",
   "execution_count": 16,
   "metadata": {},
   "outputs": [
    {
     "name": "stdout",
     "output_type": "stream",
     "text": [
      "accuracy del clasificador - version 1 : 0.83\n"
     ]
    }
   ],
   "source": [
    "print('accuracy del clasificador - version 1 : {0:.2f}'.format(clasificador_reg_log.score(X_test, y_test)))"
   ]
  },
  {
   "cell_type": "markdown",
   "metadata": {},
   "source": [
    "### El hiperparámetro 'penalty'\n",
    "__[L1 Norms versus L2 Norms](https://www.kaggle.com/residentmario/l1-norms-versus-l2-norms)__\n",
    "\n",
    "__[L1 and L2 Regularization Methods](https://towardsdatascience.com/l1-and-l2-regularization-methods-ce25e7fc831c)__"
   ]
  },
  {
   "cell_type": "code",
   "execution_count": 38,
   "metadata": {},
   "outputs": [],
   "source": [
    "#evaluar el desempeño\n",
    "from sklearn.metrics import accuracy_score, confusion_matrix, precision_score, recall_score, f1_score"
   ]
  },
  {
   "cell_type": "code",
   "execution_count": 39,
   "metadata": {},
   "outputs": [
    {
     "name": "stdout",
     "output_type": "stream",
     "text": [
      "accuracy del clasificador - version 1 : 0.83\n",
      "matriz de confusión del clasificador - version 1: \n",
      " [[95 15]\n",
      " [15 54]]\n",
      "precision del clasificador - version 1 : 0.78\n",
      "recall del clasificador - version 1 : 0.78\n",
      "f1 del clasificador - version 1 : 0.78\n"
     ]
    }
   ],
   "source": [
    "# accuracy\n",
    "print('accuracy del clasificador - version 1 : {0:.2f}'.format(accuracy_score(y_test, clasificador_reg_log.predict(X_test))))\n",
    "# confusion matrix\n",
    "print('matriz de confusión del clasificador - version 1: \\n {0}'.format(confusion_matrix(y_test, clasificador_reg_log.predict(X_test))))\n",
    "# precision \n",
    "print('precision del clasificador - version 1 : {0:.2f}'.format(precision_score(y_test, clasificador_reg_log.predict(X_test))))\n",
    "# recall \n",
    "print('recall del clasificador - version 1 : {0:.2f}'.format(recall_score(y_test, clasificador_reg_log.predict(X_test))))\n",
    "# f1\n",
    "print('f1 del clasificador - version 1 : {0:.2f}'.format(f1_score(y_test, clasificador_reg_log.predict(X_test))))"
   ]
  },
  {
   "cell_type": "code",
   "execution_count": 40,
   "metadata": {},
   "outputs": [
    {
     "data": {
      "text/plain": [
       "array([[-0.02842273,  0.00455452, -0.50009091,  0.61781315, -0.8139233 ,\n",
       "         0.12845079, -0.1728179 , -0.39317833,  0.52159976,  1.09941224,\n",
       "         0.40341217, -0.18345051, -0.30036041,  0.96533486,  0.48256743,\n",
       "        -0.34483447,  0.28089591,  1.21761326,  0.56363966, -1.44586303,\n",
       "         1.07245555, -0.11273706, -0.47293647,  0.16255645,  0.24716927,\n",
       "         0.28009442,  0.41324768,  0.49183529,  0.46198829,  0.14924424,\n",
       "         0.37283517,  0.73023265]])"
      ]
     },
     "execution_count": 40,
     "metadata": {},
     "output_type": "execute_result"
    }
   ],
   "source": [
    "# coeficientes del modelo\n",
    "clasificador_reg_log.coef_"
   ]
  },
  {
   "cell_type": "code",
   "execution_count": 41,
   "metadata": {},
   "outputs": [
    {
     "data": {
      "text/plain": [
       "Index(['Age', 'Fare', 'FamilySize', 'IsMother', 'IsMale', 'Deck_A', 'Deck_B',\n",
       "       'Deck_C', 'Deck_D', 'Deck_E', 'Deck_F', 'Deck_G', 'Deck_Z', 'Pclass_1',\n",
       "       'Pclass_2', 'Pclass_3', 'Title_Lady', 'Title_Master', 'Title_Miss',\n",
       "       'Title_Mr', 'Title_Mrs', 'Title_Officer', 'Title_Sir',\n",
       "       'Fare_Bin_very_low', 'Fare_Bin_low', 'Fare_Bin_high',\n",
       "       'Fare_Bin_very_high', 'Embarked_C', 'Embarked_Q', 'Embarked_S',\n",
       "       'AgeState_Adult', 'AgeState_Child'],\n",
       "      dtype='object')"
      ]
     },
     "execution_count": 41,
     "metadata": {},
     "output_type": "execute_result"
    }
   ],
   "source": [
    "df_entrenamiento.loc[:,'Age':].columns"
   ]
  },
  {
   "cell_type": "code",
   "execution_count": 42,
   "metadata": {},
   "outputs": [
    {
     "data": {
      "text/plain": [
       "[('Age', -0.028422726564420273),\n",
       " ('Fare', 0.004554523974050998),\n",
       " ('FamilySize', -0.5000909114842238),\n",
       " ('IsMother', 0.6178131477722333),\n",
       " ('IsMale', -0.8139232978160288),\n",
       " ('Deck_A', 0.12845079389574532),\n",
       " ('Deck_B', -0.17281789663788488),\n",
       " ('Deck_C', -0.3931783275109615),\n",
       " ('Deck_D', 0.5215997574180827),\n",
       " ('Deck_E', 1.0994122410892673),\n",
       " ('Deck_F', 0.4034121712434868),\n",
       " ('Deck_G', -0.18345050886017333),\n",
       " ('Deck_Z', -0.30036041139298975),\n",
       " ('Pclass_1', 0.9653348567750513),\n",
       " ('Pclass_2', 0.4825674289314244),\n",
       " ('Pclass_3', -0.3448344664619141),\n",
       " ('Title_Lady', 0.2808959117074467),\n",
       " ('Title_Master', 1.2176132639375994),\n",
       " ('Title_Miss', 0.5636396593752866),\n",
       " ('Title_Mr', -1.4458630298762787),\n",
       " ('Title_Mrs', 1.0724555459778482),\n",
       " ('Title_Officer', -0.11273705719065921),\n",
       " ('Title_Sir', -0.47293647468667127),\n",
       " ('Fare_Bin_very_low', 0.16255644812259543),\n",
       " ('Fare_Bin_low', 0.24716927159731517),\n",
       " ('Fare_Bin_high', 0.2800944188052781),\n",
       " ('Fare_Bin_very_high', 0.41324768071939194),\n",
       " ('Embarked_C', 0.49183528952065997),\n",
       " ('Embarked_Q', 0.46198828890198795),\n",
       " ('Embarked_S', 0.14924424082191098),\n",
       " ('AgeState_Adult', 0.3728351741683219),\n",
       " ('AgeState_Child', 0.7302326450762908)]"
      ]
     },
     "execution_count": 42,
     "metadata": {},
     "output_type": "execute_result"
    }
   ],
   "source": [
    "list(zip(df_entrenamiento.loc[:,'Age':].columns, clasificador_reg_log.coef_[0]))"
   ]
  },
  {
   "cell_type": "markdown",
   "metadata": {},
   "source": [
    "## Ejercicio clasificación\n",
    "Crear un clasificador basado en el algoritmo de regresión logistica para predecir si el valor de la vivienda supera la media\n",
    "\n",
    "entrada: housing.csv\n",
    "\n",
    "Procedimiento:\n",
    "- Cargar los datos los datos a un DataFrame y explorar brevemente\n",
    "- Eliminar las observaciones que tengan algun dato faltante\n",
    "- Eliminar las observaciones con el valor atípico (max) para la variable 'median_house_value'\n",
    "- Aplicar one hot encoding a la variable 'ocean_proximity'\n",
    "- Crear una nueva variable boolean 'above_median'\n",
    "- Aplicar los pasos train-test-split para poder entrenar y evaluar el clasificador\n",
    "\n",
    "Cuáles los valores para accuracy, matriz de confusion, precision, recall y f1 del clasificador?"
   ]
  }
 ],
 "metadata": {
  "kernelspec": {
   "display_name": "Python 3",
   "language": "python",
   "name": "python3"
  },
  "language_info": {
   "codemirror_mode": {
    "name": "ipython",
    "version": 3
   },
   "file_extension": ".py",
   "mimetype": "text/x-python",
   "name": "python",
   "nbconvert_exporter": "python",
   "pygments_lexer": "ipython3",
   "version": "3.7.3"
  }
 },
 "nbformat": 4,
 "nbformat_minor": 2
}

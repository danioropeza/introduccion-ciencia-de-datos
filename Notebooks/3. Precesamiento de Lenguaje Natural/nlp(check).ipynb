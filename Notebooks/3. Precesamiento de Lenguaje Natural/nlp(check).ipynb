{
 "cells": [
  {
   "cell_type": "code",
   "execution_count": 1,
   "metadata": {},
   "outputs": [],
   "source": [
    "#Habilitar intellisense\n",
    "%config IPCompleter.greedy=True"
   ]
  },
  {
   "cell_type": "markdown",
   "metadata": {},
   "source": [
    "# Procesamiento de Lenguaje Natural (*NLP*)\n",
    "__[NLP](https://es.wikipedia.org/wiki/Procesamiento_de_lenguajes_naturales)__ es un campo de las ciencias de la computación, inteligencia artificial y lingüística que estudia las interacciones entre las computadoras y el lenguaje humano. Se ocupa de la formulación e investigación de mecanismos eficaces computacionalmente para la comunicación entre personas y máquinas por medio del lenguaje natural. En poca palabras, hacer que la computadora pueden entender y responder en lenguage natural."
   ]
  },
  {
   "cell_type": "markdown",
   "metadata": {},
   "source": [
    "### Algunas aplicaciones de *NLP*\n",
    "- Extracción de palabras clave (*Keyword extraction*): identificación automática de términos importantes que mejor describan el tema de un documento.\n",
    "- Extracción de entidades (*Named-Entity Recognition*): busca localizar en el texto entidades como personas, organizaciones, lugares, expresiones de tiempo y cantidades.\n",
    "- Clasificación de texto: es asignar una categoría a un documento, esto sirve para la detección de *spam*, análisis de sentimientos, priorización de contenido, etc.\n",
    "- Resumen automático (*Text summarization*): encontrar las oraciones más informativas en un documento.\n",
    "- *Topic modeling*: es un tipo de modelo estadístico para descubrir los \"topics\" abstractos que ocurren en una colección de documentos. Descubre semanticas ocultas en un cuerpo de texto. Encuentra el tema en un conjunto de documentos.\n",
    "- Traducción automática (*Machine translation*): el uso de *software* para traducir texto o habla de un lenguaje natural a otro.\n"
   ]
  },
  {
   "cell_type": "markdown",
   "metadata": {},
   "source": [
    "1. [Vocabulario del problema](#1)\n",
    "    1. [Tokenización](#2)\n",
    "    2. [Quitar palabras de parada](#3)\n",
    "    3. [Otras tareas de limpieza que se pueden considerar](#4)\n",
    "    4. [Lematización](#5)\n",
    "    5. [Identificar n-gramas](#6)\n",
    "    6. [Desambiguación lingüística (*Word Sense Disambiguation*)](#7)\n",
    "    7. [Etiquetado gramatical (*Part of Speech Tagging*)](#8)\n",
    "2. [Representaciones](#9)\n",
    "    1. [*Feature vector*](#10)\n",
    "        1. [*One-hot encoding*](#11)\n",
    "        2. [*TF-IDF*](#12)\n",
    "        3. [*Word embeddings*](#13)"
   ]
  },
  {
   "cell_type": "markdown",
   "metadata": {},
   "source": [
    "<a id=\"1\"></a>\n",
    "# Vocabulario del problema\n",
    "En un proyecto de *NLP* se trabajan con colecciones de \"documentos\". Cada documento en un fragmento de texto que se debe procesar de manera individual (clasificar, representar, etc). Algunos ejemplos de documentos son: tweets, revisiones, artículos, libros, etc. El conjunto de todas la palabras que aparecen en todos los documentos constituye el **vocabulario del problema**. En muchos casos el tamaño del problema puede reducir el desempeño de la solución y es necesario reducirlo. \n",
    "\n",
    "Los elementos en el vocabulario se conocen como *tokens*; dependiendo del problema y las decisiones de diseño podrían no ser necesariamente una palabra. Por ejemplo, los emoticones, lemas o palabras compuestas.\n",
    "\n",
    "En este *notebook* se muestra como realizar una de las tareas más comunes que ayudan a reducir el tamaño del vocabulario: la eliminación de palabras de parada (*stop words*).\n"
   ]
  },
  {
   "cell_type": "markdown",
   "metadata": {},
   "source": [
    "<a id=\"2\"></a>\n",
    "## Tokenización\n",
    "[Tokenización](https://nlp.stanford.edu/IR-book/html/htmledition/tokenization-1.html) es el proceso de separar el texto en piezas llamadas *tokens*. Es la primera tarea/proceso en cualquier proyecto *NLP*. Es fundamental realizarla bien para no afectar la calidad de los datos de entrada en las etapas siguientes. Se recomienda usar un *tokenizer* reconocido y evitar intentar programar uno desde cero. \n",
    "![Tokenización](01_tokenization.png)\n",
    "\n",
    "A continuación, se muestra un ejemplo de tokenización sobre esta [noticia](https://www.lostiempos.com/deportes/multideportivo/20200115/olympic-albert-einstein-ucb-lpz-van-paso-firme-liga-superior). Primero debes cargar la noticia.\n"
   ]
  },
  {
   "cell_type": "code",
   "execution_count": 4,
   "metadata": {},
   "outputs": [
    {
     "data": {
      "text/plain": [
       "'Los clubes cochabambinos de Olympic, Albert Einstein y el paceño Universidad Católica Boliviana (UCB) avanzan a paso firme y constante rumbo a la corona en la Liga Superior de voleibol, rama femenina, que se desarrolla en el coliseo Julio Borelli Vitterito de La Paz, luego de cosechar sendas victorias la noche de este martes. El ganador será representante de Bolivia en la Liga Sudamericana de Clubes 2020.\\n\\nEl campeón defensor del título, Olympic, superó 3-0  a su verdugo de la final de la edición 2017, el también cochabambino San Simón. La victoria para las olympiquistas fue con sets de 25-14, 25-13 y 25-18.'"
      ]
     },
     "execution_count": 4,
     "metadata": {},
     "output_type": "execute_result"
    }
   ],
   "source": [
    "texto_noticia = \"\"\"Los clubes cochabambinos de Olympic, Albert Einstein y el paceño Universidad Católica Boliviana (UCB) avanzan a paso firme y constante rumbo a la corona en la Liga Superior de voleibol, rama femenina, que se desarrolla en el coliseo Julio Borelli Vitterito de La Paz, luego de cosechar sendas victorias la noche de este martes. El ganador será representante de Bolivia en la Liga Sudamericana de Clubes 2020.\n",
    "\n",
    "El campeón defensor del título, Olympic, superó 3-0  a su verdugo de la final de la edición 2017, el también cochabambino San Simón. La victoria para las olympiquistas fue con sets de 25-14, 25-13 y 25-18.\"\"\"\n",
    "texto_noticia"
   ]
  },
  {
   "cell_type": "markdown",
   "metadata": {},
   "source": [
    "### Tokenización a nivel oraciones\n",
    "La función <font color=\"gray\">sent_tokenize(...)</font> de <font color=\"gray\">nltk.tokenize</font> es el tokenizador a nivel de oraciones. Si tienes problemas importando la librería [*nltk*](https://www.nltk.org/api/nltk.tokenize.html), ejecuta <font color=\"gray\">nltk.download('punkt')</font> desde la consola de Python para descargar la librería."
   ]
  },
  {
   "cell_type": "code",
   "execution_count": 5,
   "metadata": {},
   "outputs": [
    {
     "name": "stdout",
     "output_type": "stream",
     "text": [
      "Número total de oraciones de la noticia: 4\n",
      "Texto de la oracion 1: Los clubes cochabambinos de Olympic, Albert Einstein y el paceño Universidad Católica Boliviana (UCB) avanzan a paso firme y constante rumbo a la corona en la Liga Superior de voleibol, rama femenina, que se desarrolla en el coliseo Julio Borelli Vitterito de La Paz, luego de cosechar sendas victorias la noche de este martes.\n"
     ]
    }
   ],
   "source": [
    "import nltk\n",
    "oraciones_noticia = nltk.tokenize.sent_tokenize(text=texto_noticia, language='spanish')\n",
    "print(\"Número total de oraciones de la noticia: {}\".format(len(oraciones_noticia)))\n",
    "print(\"Texto de la oracion 1: {}\".format(oraciones_noticia[0]))"
   ]
  },
  {
   "cell_type": "markdown",
   "metadata": {},
   "source": [
    "### Tokenización a nivel de palabras.\n",
    "La función <font color=\"gray\">nltk.word_tokenize(...)</font> es el tokenizador a nivel de palabras recomendado por *NLTK*. El resultado de esta función es una lista con todas las palabras de la noticia. Internamente usa una instancia de la clase <font color=\"gray\">TreebankWordTokenizer</font> (en la versión más reciente)\n"
   ]
  },
  {
   "cell_type": "code",
   "execution_count": 6,
   "metadata": {},
   "outputs": [
    {
     "data": {
      "text/plain": [
       "['Los',\n",
       " 'clubes',\n",
       " 'cochabambinos',\n",
       " 'de',\n",
       " 'Olympic',\n",
       " ',',\n",
       " 'Albert',\n",
       " 'Einstein',\n",
       " 'y',\n",
       " 'el',\n",
       " 'paceño',\n",
       " 'Universidad',\n",
       " 'Católica',\n",
       " 'Boliviana',\n",
       " '(',\n",
       " 'UCB',\n",
       " ')',\n",
       " 'avanzan',\n",
       " 'a',\n",
       " 'paso',\n",
       " 'firme',\n",
       " 'y',\n",
       " 'constante',\n",
       " 'rumbo',\n",
       " 'a',\n",
       " 'la',\n",
       " 'corona',\n",
       " 'en',\n",
       " 'la',\n",
       " 'Liga',\n",
       " 'Superior',\n",
       " 'de',\n",
       " 'voleibol',\n",
       " ',',\n",
       " 'rama',\n",
       " 'femenina',\n",
       " ',',\n",
       " 'que',\n",
       " 'se',\n",
       " 'desarrolla',\n",
       " 'en',\n",
       " 'el',\n",
       " 'coliseo',\n",
       " 'Julio',\n",
       " 'Borelli',\n",
       " 'Vitterito',\n",
       " 'de',\n",
       " 'La',\n",
       " 'Paz',\n",
       " ',',\n",
       " 'luego',\n",
       " 'de',\n",
       " 'cosechar',\n",
       " 'sendas',\n",
       " 'victorias',\n",
       " 'la',\n",
       " 'noche',\n",
       " 'de',\n",
       " 'este',\n",
       " 'martes',\n",
       " '.',\n",
       " 'El',\n",
       " 'ganador',\n",
       " 'será',\n",
       " 'representante',\n",
       " 'de',\n",
       " 'Bolivia',\n",
       " 'en',\n",
       " 'la',\n",
       " 'Liga',\n",
       " 'Sudamericana',\n",
       " 'de',\n",
       " 'Clubes',\n",
       " '2020',\n",
       " '.',\n",
       " 'El',\n",
       " 'campeón',\n",
       " 'defensor',\n",
       " 'del',\n",
       " 'título',\n",
       " ',',\n",
       " 'Olympic',\n",
       " ',',\n",
       " 'superó',\n",
       " '3-0',\n",
       " 'a',\n",
       " 'su',\n",
       " 'verdugo',\n",
       " 'de',\n",
       " 'la',\n",
       " 'final',\n",
       " 'de',\n",
       " 'la',\n",
       " 'edición',\n",
       " '2017',\n",
       " ',',\n",
       " 'el',\n",
       " 'también',\n",
       " 'cochabambino',\n",
       " 'San',\n",
       " 'Simón',\n",
       " '.',\n",
       " 'La',\n",
       " 'victoria',\n",
       " 'para',\n",
       " 'las',\n",
       " 'olympiquistas',\n",
       " 'fue',\n",
       " 'con',\n",
       " 'sets',\n",
       " 'de',\n",
       " '25-14',\n",
       " ',',\n",
       " '25-13',\n",
       " 'y',\n",
       " '25-18',\n",
       " '.']"
      ]
     },
     "execution_count": 6,
     "metadata": {},
     "output_type": "execute_result"
    }
   ],
   "source": [
    "palabras_noticia = nltk.word_tokenize(texto_noticia)\n",
    "palabras_noticia"
   ]
  },
  {
   "cell_type": "markdown",
   "metadata": {},
   "source": [
    "Debes saber que <font color=\"gray\">word_tokenize</font>, no es la única función que permite realizar este trabajo. Puedes utilizar también <font color=\"gray\">casual_tokenize</font>. Encuentra la diferencia =)"
   ]
  },
  {
   "cell_type": "code",
   "execution_count": 7,
   "metadata": {},
   "outputs": [
    {
     "data": {
      "text/plain": [
       "['Que', 'buena', 'pelicula', '.', 'Gracias', 'por', 'invitarme', ':)']"
      ]
     },
     "execution_count": 7,
     "metadata": {},
     "output_type": "execute_result"
    }
   ],
   "source": [
    "nltk.tokenize.casual.casual_tokenize(\"Que buena pelicula. Gracias por invitarme :)\")"
   ]
  },
  {
   "cell_type": "code",
   "execution_count": 8,
   "metadata": {},
   "outputs": [
    {
     "data": {
      "text/plain": [
       "['Que', 'buena', 'pelicula', '.', 'Gracias', 'por', 'invitarme', ':', ')']"
      ]
     },
     "execution_count": 8,
     "metadata": {},
     "output_type": "execute_result"
    }
   ],
   "source": [
    "nltk.word_tokenize(\"Que buena pelicula. Gracias por invitarme :)\")"
   ]
  },
  {
   "cell_type": "markdown",
   "metadata": {},
   "source": [
    "<a id=\"3\"></a>\n",
    "## Quitar palabras de parada\n",
    "\n",
    "Dependiendo del lenguaje existen palabras que tienden a repetirse mucho más que otras, estas generalmente son los artículos, las preposiciones, y las conjunciones. Estas palabras suelen ser perjudiciales al momento de analizar el texto porque no aportan información relevante, es por eso que se deben quitar las palabras de parada del vocabulario del problema. Tener en cuenta que NO hay una lista universal y exhaustiva de estas palabras. Cada lenguage e incluso tipo de problema puede tener su propia lista de palabras de parada.\n",
    "![Tokenización](02_remove_stopwords.png)\n",
    "\n",
    "Puesto que estas listas pueden variar dependiendo de la librería o incluso entre versiones de la misma librería, incluir este paso puede dificultar la reproducción de los resultados en otros entornos. Veremos más adelante que hay otros mecanismos para lidiar con este tipo de palabras (*TF*, *IDF*).\n",
    "\n",
    "Ten en cuenta tambien que quitar alguna palabra de parada como los artículos podría cambiar completamente el significado de algunas palabras compuestas. Por ejemplo: \"La Paz\" -> \"Paz\".\n",
    "\n",
    "Si deseas aprender más, ingresa en los siguientes enlaces:\n",
    "\n",
    "- __[Cómo eliminar las palabras de parada usando nltk o python](https://www.pythond.com/21143/como-eliminar-las-palabras-de-parada-usando-nltk-o-python.html)__\n",
    "\n",
    "- __[Proyecto stop-words](https://pypi.org/project/stop-words/)__\n",
    "\n",
    "- __[Proyecto node-nltk-stopwords](https://github.com/xiamx/node-nltk-stopwords/blob/master/data/stopwords/spanish)__\n",
    "\n",
    "- __[Stopwords @ ranks.nl](https://www.ranks.nl/stopwords)__"
   ]
  },
  {
   "cell_type": "markdown",
   "metadata": {},
   "source": [
    "Si tienes problemas importando la libreria *nltk*, ejecuta este comando <font color=\"gray\">nltk.download('stopwords')</font>. En el ejemplo se puede ver la lista de palabras de parada que nos ofrece la libreria <font color=\"gray\">nltk.corpus</font>"
   ]
  },
  {
   "cell_type": "code",
   "execution_count": null,
   "metadata": {},
   "outputs": [],
   "source": [
    "import nltk\n",
    "nltk.corpus.stopwords.words('spanish')"
   ]
  },
  {
   "cell_type": "markdown",
   "metadata": {},
   "source": [
    "Otra lista de palabras de parada que podrías tomar en cuenta son los signos de puntuación."
   ]
  },
  {
   "cell_type": "code",
   "execution_count": null,
   "metadata": {},
   "outputs": [],
   "source": [
    "import string\n",
    "list(string.punctuation)"
   ]
  },
  {
   "cell_type": "markdown",
   "metadata": {},
   "source": [
    "Puedes unir ambas listas para tener todo mejor organizado"
   ]
  },
  {
   "cell_type": "code",
   "execution_count": null,
   "metadata": {},
   "outputs": [],
   "source": [
    "palabras_de_parada = set( nltk.corpus.stopwords.words('spanish') + list(string.punctuation))\n",
    "palabras_de_parada"
   ]
  },
  {
   "cell_type": "markdown",
   "metadata": {},
   "source": [
    "Finalmente solo queda eliminar las palabras de parada del texto de la noticia y listo."
   ]
  },
  {
   "cell_type": "code",
   "execution_count": null,
   "metadata": {},
   "outputs": [],
   "source": [
    "palabras_noticia_sin_palabras_de_parada = [palabra for palabra in palabras_noticia if palabra not in palabras_de_parada]\n",
    "palabras_noticia_sin_palabras_de_parada"
   ]
  },
  {
   "cell_type": "markdown",
   "metadata": {},
   "source": [
    "<a id=\"4\"></a>\n",
    "## Otras tareas de limpieza que se pueden considerar\n",
    "\n",
    "- Unificar el case - <font color=\"gray\">string.lower()></font>.\n",
    "- Quitar acentos (probablemente no es buena idea si el contenido está en castellano)\n",
    "- Procesar contracciones. I'm -> I am \n",
    "- Quitar caracteres expeciales. Como los siguientes: #@!\n",
    "- Quitar markup. Ejemplo en contenido HTML\n",
    "- Corregir texto. Ejemplo, noooo por favoooorrr -> no por favor\n",
    "\n",
    "Algunos enlaces de utilidad:\n",
    "- http://norvig.com/spell-correct.html\n",
    "- https://github.com/fsondej/autocorrect\n",
    "- https://github.com/MajorTal/DeepSpell"
   ]
  },
  {
   "cell_type": "markdown",
   "metadata": {},
   "source": [
    "<a id=\"5\"></a>\n",
    "##  Lematización\n",
    "Eliminar las variaciones de la misma palabra para tratar las variaciones como una sola entidad. (*close, closed, closing*; caminaba, caminando, caminar). Al igual que la eliminación de palabras de parada, se emplea para reducir la cantidad de elementos en el vocabulario de un problema.\n",
    "\n",
    "Algunos enlaces que podrían servirte de ayuda:\n",
    "\n",
    "- __[Lematización](https://es.wikipedia.org/wiki/Lematizaci%C3%B3n)__\n",
    "\n",
    "- __[Stemmer-es, Un lematizador de español](http://stemmer-es.sourceforge.net/)__\n",
    "\n",
    "<a id=\"6\"></a>\n",
    "## Identificar n-gramas\n",
    "Grupos de N palabras que están siempre juntas (Nueva York, Santa Cruz) y que deben tratarse como una sola entidad/palabra.\n",
    "\n",
    "Algunos enlaces que podrían servirte de ayuda:\n",
    "\n",
    "- __[Modelo bolsa de palabras](https://es.wikipedia.org/wiki/Modelo_bolsa_de_palabras)__\n",
    "\n",
    "- __[N-grama](https://es.wikipedia.org/wiki/N-grama)__\n",
    "\n",
    "<a id=\"7\"></a>\n",
    "## Desambiguación lingüística (*Word Sense Disambiguation*)\n",
    "Asignar significado en base al contexto. ¿Con qué sentido se usa una palabra? En el caso de la __[polisemia](https://es.wikipedia.org/wiki/Polisemia)__, ¿cuál de los significados es el más apropiado dado el contexto?\n",
    "\n",
    "Ejemplos:\n",
    "\n",
    "- Placeres de la carne.\n",
    "- La carne está sabrosa.\n",
    "\n",
    "\n",
    "- Puso dos velas a San Pedro.\n",
    "- Los egipcios fueron los primeros constructores de barcos de vela de los que se tiene noticia.\n",
    "\n",
    "El desarrollo de algoritmos para reproducir esta capacidad humana (desambiguar el significado) a menudo puede ser una  __[tarea muy difícil](https://es.wikipedia.org/wiki/Problema_no_resuelto)__. En la frase \"La carne está sabrosa\" hay también cierto contenido implícito: se asume que estamos hablando de carne cocida.\n",
    "\n",
    "Algunos enlaces que podrían servirte de ayuda:\n",
    "\n",
    "- __[Desambiguación lingüística](https://es.wikipedia.org/wiki/Desambiguaci%C3%B3n_ling%C3%BC%C3%ADstica)__\n",
    "\n",
    "\n",
    "Recursos lingüísticos\n",
    "\n",
    "- __[WordNet](https://es.wikipedia.org/wiki/WordNet)__\n",
    "\n",
    "- __[Spanish WordNet 3.0](http://timm.ujaen.es/recursos/spanish-wordnet-3-0/)__\n",
    "\n",
    "\n",
    "Estrategias \n",
    "\n",
    "- __[Algoritmo Lesk](https://en.wikipedia.org/wiki/Lesk_algorithm)__\n",
    "\n",
    "- __[Desambiguación del Sentido de las Palabras](http://dpinto.cs.buap.mx/pln/Autumn2010/wsd.pdf)__\n",
    "\n",
    "- __[Estudio sobre métodos tipo Lesk usados para la desambiguación de sentidos de palabras](https://pdfs.semanticscholar.org/cd5f/5dd14c126325a81280407ddc2616f3704fca.pdf)__\n",
    "\n",
    "- __[Supervised Word Sense Disambiguation: Facing Current Challenges](http://www.sepln.org/sites/default/files/monografia/archivos/2018-10/monografiaDavid.pdf)__\n",
    "\n",
    "<a id=\"8\"></a>\n",
    "##  Etiquetado gramatical (*Part of Speech Tagging*)\n",
    "Como parte de la desambiguación, se suele realizar la tarea de asignar una categoría a cada palabra: sujeto, nombre, verbo, adjetivo. \n",
    "\n",
    "Algunos enlaces de ayuda:\n",
    "\n",
    "- __[Etiquetado gramatical](https://es.wikipedia.org/wiki/Etiquetado_gramatical)__\n",
    "\n",
    "- __[Using Wikicorpus & NLTK to build a Spanish part-of-speech tagger](https://www.cnts.ua.ac.be/pages/using-wikicorpus-nltk-to-build-a-spanish-part-of-speech-tagger)__\n",
    "\n",
    "- __[Choosing a Spanish Part-of-Speech tagger for a lexically sensitive task](https://www.researchgate.net/publication/282828110_Choosing_a_Spanish_Part-of-Speech_tagger_for_a_lexically_sensitive_task)__"
   ]
  },
  {
   "cell_type": "markdown",
   "metadata": {},
   "source": [
    "# Enfoques\n",
    "Basado en reglas (sistemas expertos)\n",
    "Aprendizaje Automático (capturar patrones en datos históricos)\n",
    "\n",
    "Ejemplo: Detección de Spam, Sentiment Analysis"
   ]
  },
  {
   "cell_type": "markdown",
   "metadata": {},
   "source": [
    "<a id=\"9\"></a>\n",
    "# Representaciones\n",
    "Dependiendo del tipo de problema *NLP*, el texto deberá transformarse en una representación adecuada para las herramientas y algoritmos empleandos para abordar el problema. Una de las más usadas es crear representaciones numéricas. Esencialmente, se trata de convertir texto en un vector/arreglo de números.\n",
    "\n",
    "Los valores en el arreglo pueden ser por ejemplo: la frequencia del *tóken* en el documento, el código en un *word embedding*, o la métrica *TF-IDF*. \n",
    "\n",
    "Hay escenarios en los cuales estos vectores pueden tener un gran tamaño, en estos casos se recomienda emplear alguna estrategia para reducir la dimensionalidad de los vectores (Ej. *feature hashing*, *locality sensitive hashing*).\n",
    "\n",
    "Para su mejor comprensión, realizaremos la representación sobre la base de esta [noticia](https://www.lostiempos.com/deportes/multideportivo/20200115/olympic-albert-einstein-ucb-lpz-van-paso-firme-liga-superior)"
   ]
  },
  {
   "cell_type": "markdown",
   "metadata": {},
   "source": [
    "Primero debemos obtener el texto de la noticia."
   ]
  },
  {
   "cell_type": "code",
   "execution_count": null,
   "metadata": {},
   "outputs": [],
   "source": [
    "texto_noticia = \"\"\"Los clubes cochabambinos de Olympic, Albert Einstein y el paceño Universidad Católica Boliviana (UCB) avanzan a paso firme y constante rumbo a la corona en la Liga Superior de voleibol, rama femenina, que se desarrolla en el coliseo Julio Borelli Vitterito de La Paz, luego de cosechar sendas victorias la noche de este martes. El ganador será representante de Bolivia en la Liga Sudamericana de Clubes 2020.\n",
    "\n",
    "El campeón defensor del título, Olympic, superó 3-0  a su verdugo de la final de la edición 2017, el también cochabambino San Simón. La victoria para las olympiquistas fue con sets de 25-14, 25-13 y 25-14.\"\"\"\n",
    "texto_noticia"
   ]
  },
  {
   "cell_type": "markdown",
   "metadata": {},
   "source": [
    "Ahora debemos importar las librerias correspondientes y generar la lista de *stop words* en español."
   ]
  },
  {
   "cell_type": "code",
   "execution_count": null,
   "metadata": {},
   "outputs": [],
   "source": [
    "import nltk\n",
    "import string\n",
    "import numpy as np\n",
    "import pandas as pd\n",
    "import collections\n",
    "import math\n",
    "palabras_de_parada_espanol = set( nltk.corpus.stopwords.words('spanish') + list(string.punctuation))\n",
    "palabras_de_parada_espanol"
   ]
  },
  {
   "cell_type": "markdown",
   "metadata": {},
   "source": [
    "Luego proceguimos a tokenizar el texto a nivel oración."
   ]
  },
  {
   "cell_type": "code",
   "execution_count": null,
   "metadata": {},
   "outputs": [],
   "source": [
    "oraciones_noticia = nltk.tokenize.sent_tokenize(text=texto_noticia, language='spanish')\n",
    "oraciones_noticia[0]"
   ]
  },
  {
   "cell_type": "markdown",
   "metadata": {},
   "source": [
    "Creamos una funcion para eliminar las palabras de parada de una oración."
   ]
  },
  {
   "cell_type": "code",
   "execution_count": 17,
   "metadata": {},
   "outputs": [],
   "source": [
    "def normalizar_oraciones(oraciones, language='spanish'):\n",
    "    tokens = nltk.word_tokenize(oraciones,language)\n",
    "    tokens_filtrados = [token.lower() for token in tokens if token not in palabras_de_parada_espanol]\n",
    "    return \" \".join(tokens_filtrados)"
   ]
  },
  {
   "cell_type": "markdown",
   "metadata": {},
   "source": [
    "Aplicamos la función a todo el cuerpo del texto."
   ]
  },
  {
   "cell_type": "code",
   "execution_count": null,
   "metadata": {},
   "outputs": [],
   "source": [
    "def normalizar_cuerpo_texto(oraciones, language='spanish'):\n",
    "    return np.array([normalizar_oraciones(oracion, language) for oracion in oraciones])\n",
    "\n",
    "cuerpo_texto_normalizado = normalizar_cuerpo_texto(oraciones_noticia)\n",
    "cuerpo_texto_normalizado"
   ]
  },
  {
   "cell_type": "markdown",
   "metadata": {},
   "source": [
    "Muy bien, ahora obtendremos el vocabulario del problema con el siguiente código."
   ]
  },
  {
   "cell_type": "code",
   "execution_count": 20,
   "metadata": {},
   "outputs": [],
   "source": [
    "def obtener_vocabulario_problema(cuerpo_texto_normalizado):\n",
    "    vocabulario_problema = [] \n",
    "    for oracion in cuerpo_texto_normalizado:\n",
    "        vocabulario_problema.extend(oracion.split())  \n",
    "    return vocabulario_problema"
   ]
  },
  {
   "cell_type": "markdown",
   "metadata": {},
   "source": [
    "Con la siguiente función, tendremos cada palabra del vocabulario con su posición."
   ]
  },
  {
   "cell_type": "code",
   "execution_count": null,
   "metadata": {},
   "outputs": [],
   "source": [
    "def obtener_vocabulario_problema_y_posicion(vocabulario_del_problema_ordenado):\n",
    "    token_y_su_posicion = {}\n",
    "    for i, token in enumerate(vocabulario_del_problema_ordenado):\n",
    "        token_y_su_posicion[token] = i\n",
    "    return token_y_su_posicion\n",
    "\n",
    "vocabulario_problema = obtener_vocabulario_problema(cuerpo_texto_normalizado)\n",
    "vocabulario_problema_ordenado = sorted(set(vocabulario_problema))\n",
    "vocabulario_problema_y_su_posicion = obtener_vocabulario_problema_y_posicion(vocabulario_problema_ordenado)\n",
    "print(\"Cantidad de palabras:\", len(vocabulario_problema_y_su_posicion))\n",
    "vocabulario_problema_y_su_posicion"
   ]
  },
  {
   "cell_type": "markdown",
   "metadata": {},
   "source": [
    "<a id=\"10\"></a>\n",
    "## Feature Vectors\n",
    "\n",
    "Los *feature vectors* se utilizan para representar características simbólicas o númericas; llamados *features*, de un objeto de una manera matemática y fácilmente analizable."
   ]
  },
  {
   "cell_type": "markdown",
   "metadata": {},
   "source": [
    "<a id=\"11\"></a>\n",
    "### One-hot encoding (tuplas de palabras)\n",
    "Se crea un vocabulario con todas la palabras de todos los documentos. Y cada documento se representa como una arreglo donde se indica la presencia o ausencia de una palabra en el documento.\n",
    "![one-hot-encoding](one-hot-encoding.png)\n",
    "\n",
    "- Cada documento se representa con uno arreglo tan grande como todo el vocabulario! :(\n",
    "- Se pierde el órden y la frequencia de las palabras.\n",
    "- No captura relaciones entre palabras.\n",
    "- Su mayor ventaja es la simplicidad."
   ]
  },
  {
   "cell_type": "code",
   "execution_count": null,
   "metadata": {},
   "outputs": [],
   "source": [
    "cuerpo_texto_normalizado[2]"
   ]
  },
  {
   "cell_type": "code",
   "execution_count": null,
   "metadata": {},
   "outputs": [],
   "source": [
    "def vector_one_hot(oracion, vocabulario_problema_y_su_posicion):\n",
    "    vector = np.zeros(len(vocabulario_problema_y_su_posicion),dtype=int)\n",
    "    for token in oracion.split():\n",
    "        vector[vocabulario_problema_y_su_posicion[token]] = 1\n",
    "    return vector\n",
    "\n",
    "vector_one_hot(cuerpo_texto_normalizado[2], vocabulario_problema_y_su_posicion)"
   ]
  },
  {
   "cell_type": "markdown",
   "metadata": {},
   "source": [
    "<a id=\"12\"></a>\n",
    "### Basadas en frecuencias\n",
    "**Conteos**\n",
    "\n",
    "El vector de cada documento contiene la cantidad de veces que aparece una palabra (no solo se marca su presencia/ausencia)\n",
    "\n",
    "***TF-IDF (Term frequency, inverse document frequency)***\n",
    "\n",
    "*TF*: La frecuencia de una palabra en un documento.\n",
    "\n",
    "*IDF*: Mientras en más documentos aparece menos significativa es la palabra en los documentos en las aparece.\n",
    "\n",
    "Captura la frequencia de las palabras en cada documento y en el contenido formado por el conjunto de los documentos.\n",
    "\n",
    "El valor de *TF-IDF* para cada palabra aumenta por su frecuencia en un documento pero disminuye si al mismo tiempo aparece \n",
    "todo el conjunto de documentos (es un término común).\n",
    "\n",
    "La idea es capturar la importancia de las palabras en los documentos. No captura las relaciones entre las palabras.\n"
   ]
  },
  {
   "cell_type": "markdown",
   "metadata": {},
   "source": [
    "#### TF  (Term Frequency)"
   ]
  },
  {
   "cell_type": "code",
   "execution_count": null,
   "metadata": {},
   "outputs": [],
   "source": [
    "cuerpo_texto_normalizado"
   ]
  },
  {
   "cell_type": "code",
   "execution_count": null,
   "metadata": {},
   "outputs": [],
   "source": [
    "vocabulario_problema_y_su_posicion"
   ]
  },
  {
   "cell_type": "markdown",
   "metadata": {},
   "source": [
    "Contamos la frecuencia de cada *token*."
   ]
  },
  {
   "cell_type": "code",
   "execution_count": null,
   "metadata": {},
   "outputs": [],
   "source": [
    "tokens_y_su_frecuencia = collections.Counter(cuerpo_texto_normalizado[3].split())\n",
    "tokens_y_su_frecuencia"
   ]
  },
  {
   "cell_type": "markdown",
   "metadata": {},
   "source": [
    "Puedes contar también de esta forma:"
   ]
  },
  {
   "cell_type": "code",
   "execution_count": null,
   "metadata": {},
   "outputs": [],
   "source": [
    "frecuencia = collections.Counter(['a','b','c','a'])\n",
    "frecuencia"
   ]
  },
  {
   "cell_type": "markdown",
   "metadata": {},
   "source": [
    "Con el siguiente código puedes obtener todos los *tokens*"
   ]
  },
  {
   "cell_type": "code",
   "execution_count": null,
   "metadata": {},
   "outputs": [],
   "source": [
    "from heapq import nlargest\n",
    "nlargest(10, frecuencia, key=frecuencia.get)"
   ]
  },
  {
   "cell_type": "markdown",
   "metadata": {},
   "source": [
    "La siguiente función anota la frecuencia de cada palabra en el vector *one hot*"
   ]
  },
  {
   "cell_type": "code",
   "execution_count": null,
   "metadata": {},
   "outputs": [],
   "source": [
    "def obtener_vector_frecuencia_termino(oracion, vocabulario_problema_y_su_posicion):\n",
    "    vector = np.zeros(len(vocabulario_problema_y_su_posicion),dtype=int)\n",
    "    tokens_y_su_frecuencia = collections.Counter(oracion.split());\n",
    "    for token, frecuencia in tokens_y_su_frecuencia.items():\n",
    "        vector[vocabulario_problema_y_su_posicion[token]] = frecuencia\n",
    "    return vector\n",
    "\n",
    "obtener_vector_frecuencia_termino(cuerpo_texto_normalizado[3], vocabulario_problema_y_su_posicion)"
   ]
  },
  {
   "cell_type": "markdown",
   "metadata": {},
   "source": [
    "#####  Evite escribir código, cuando se puede hacer con librerias\n",
    "\n",
    "Un enlace de ayuda:\n",
    "__[Scikit-Learn Design Principles](https://towardsdatascience.com/scikit-learn-design-principles-d1371958059b)__"
   ]
  },
  {
   "cell_type": "code",
   "execution_count": null,
   "metadata": {},
   "outputs": [],
   "source": [
    "simple_cuerpo_texto_normalizado = np.array(['p1 co','p2 co co'])\n",
    "simple_cuerpo_texto_normalizado"
   ]
  },
  {
   "cell_type": "markdown",
   "metadata": {},
   "source": [
    "La funcion <font color=\"gray\">CountVectorizer()</font> implementa <font color=\"gray\">transform</font>"
   ]
  },
  {
   "cell_type": "code",
   "execution_count": null,
   "metadata": {},
   "outputs": [],
   "source": [
    "from sklearn.feature_extraction.text import CountVectorizer\n",
    "cv = CountVectorizer()\n",
    "cv_matris = cv.fit_transform(simple_cuerpo_texto_normalizado)\n",
    "cv_matris"
   ]
  },
  {
   "cell_type": "markdown",
   "metadata": {},
   "source": [
    "Algunos ejemplos más:"
   ]
  },
  {
   "cell_type": "code",
   "execution_count": null,
   "metadata": {},
   "outputs": [],
   "source": [
    "print(\"Matriz disperza:\")\n",
    "print(cv_matris)\n",
    "print(\"Vecto np regular:\")\n",
    "print(cv_matris.toarray())\n",
    "print(\"Vocabulario:\")\n",
    "print(cv.vocabulary_)\n",
    "print(\"Variables:\")\n",
    "print(cv.get_feature_names())\n",
    "print(\"one-hot encoding:\")\n",
    "print(np.sign(cv_matris.toarray()))"
   ]
  },
  {
   "cell_type": "markdown",
   "metadata": {},
   "source": [
    "Puedes también utilizar los *dataframes*"
   ]
  },
  {
   "cell_type": "code",
   "execution_count": null,
   "metadata": {},
   "outputs": [],
   "source": [
    "pd.DataFrame(cv_matris.toarray(), columns=cv.get_feature_names())"
   ]
  },
  {
   "cell_type": "markdown",
   "metadata": {},
   "source": [
    "Ahora unos ejemplos para bi-gramas."
   ]
  },
  {
   "cell_type": "code",
   "execution_count": null,
   "metadata": {},
   "outputs": [],
   "source": [
    "simple_cuerpo_texto_normalizado"
   ]
  },
  {
   "cell_type": "code",
   "execution_count": null,
   "metadata": {},
   "outputs": [],
   "source": [
    "bv = CountVectorizer(ngram_range=(1,2))\n",
    "cv_matris_con_bigramas = bv.fit_transform(simple_cuerpo_texto_normalizado)\n",
    "print(\"Matris dispersa:\")\n",
    "print(cv_matris_con_bigramas)\n",
    "print(\"Vector np regular:\")\n",
    "print(cv_matris_con_bigramas.toarray())\n",
    "print(\"Variables:\")\n",
    "print(bv.get_feature_names())"
   ]
  },
  {
   "cell_type": "markdown",
   "metadata": {},
   "source": [
    "Puedes también utilizar *dataframes*"
   ]
  },
  {
   "cell_type": "code",
   "execution_count": null,
   "metadata": {},
   "outputs": [],
   "source": [
    "pd.DataFrame(cv_matris_con_bigramas.toarray(), columns=bv.get_feature_names())"
   ]
  },
  {
   "cell_type": "markdown",
   "metadata": {},
   "source": [
    "#### *IDF  (Inverse Document Frequency)*"
   ]
  },
  {
   "cell_type": "markdown",
   "metadata": {},
   "source": [
    "idf(t) = log(cantidad-documentos/cantidad-documentos-con-el-termino)\n",
    "\n",
    "Min = 1; A valores más alejados de 1, mayor IDF\n",
    "\n",
    "Interpretación de resultados"
   ]
  },
  {
   "cell_type": "code",
   "execution_count": null,
   "metadata": {},
   "outputs": [],
   "source": [
    "simple_cuerpo_texto_normalizado = np.array(['p1 co','p2 co co'])\n",
    "simple_cuerpo_texto_normalizado"
   ]
  },
  {
   "cell_type": "code",
   "execution_count": null,
   "metadata": {
    "scrolled": false
   },
   "outputs": [],
   "source": [
    "from sklearn.feature_extraction.text import TfidfVectorizer\n",
    "tfIdfv = TfidfVectorizer(norm='l2')\n",
    "tfIdfv.fit(simple_cuerpo_texto_normalizado)"
   ]
  },
  {
   "cell_type": "markdown",
   "metadata": {},
   "source": [
    "Fijate lo que pasa con el valor idf para las palabras que aparecen en muchos documentos. Debido a cómo sckit-learn hace los cálculos, no hay IDF = 0, el valor mínimo es 1"
   ]
  },
  {
   "cell_type": "code",
   "execution_count": null,
   "metadata": {},
   "outputs": [],
   "source": [
    "dict(zip(tfIdfv.get_feature_names(),tfIdfv.idf_ ))"
   ]
  },
  {
   "cell_type": "code",
   "execution_count": null,
   "metadata": {},
   "outputs": [],
   "source": [
    "simple_cuerpo_texto_normalizado = np.array(['p1 co co','p2 co'])\n",
    "tfIdfv.fit(simple_cuerpo_texto_normalizado)"
   ]
  },
  {
   "cell_type": "markdown",
   "metadata": {},
   "source": [
    "Este *score*/indicador aumenta con la frequencia de la palabra en el documento, pero disminuye cuando la palabra se hace muy común (baja su relevancia)"
   ]
  },
  {
   "cell_type": "code",
   "execution_count": 78,
   "metadata": {},
   "outputs": [
    {
     "name": "stdout",
     "output_type": "stream",
     "text": [
      "Vector np regular:\n",
      "[[0.81818021 0.57496187 0.        ]\n",
      " [0.57973867 0.         0.81480247]]\n",
      "Variables:\n",
      "['co', 'p1', 'p2']\n"
     ]
    }
   ],
   "source": [
    "tt_matris = tfIdfv.transform(simple_cuerpo_texto_normalizado)\n",
    "print(\"Vector np regular:\")\n",
    "print(tt_matris.toarray())\n",
    "print(\"Variables:\")\n",
    "print(tfIdfv.get_feature_names())"
   ]
  },
  {
   "cell_type": "markdown",
   "metadata": {},
   "source": [
    "#### Co-ocurrencias\n",
    "\n",
    "Se representa con una matrix en la se indica el número de veces que dos palabras aparecen en la misma \"ventana\" de \n",
    "co-ocurrencia (nro de palabras a izquierda, derecha o ambos lados cercanas a otra).\n",
    "\n",
    "Trata de capturar la relaciones entre las palabras."
   ]
  },
  {
   "cell_type": "markdown",
   "metadata": {},
   "source": [
    "<a id=\"13\"></a>\n",
    "### Word embeddings\n",
    "\n",
    "Asociación de palabras con códigos numéricos que capturan su similitud semánticas. Por ejemplo, Londres tendrá un valor numérico cercano a París porque ambas palabras tiene significado parecido (ambas son ciudades importantes de europa); de la misma manera, la distancia entre las palabras \"varón\" y \"mujer\" sería similar a la distancia que existe entre \"rey\" y \"reina\".\n",
    "\n",
    "Son generadas a partir de grandes cuerpos de texto por algoritmos basados en redes neuronales, reducción de la dimensionalidad de matrices de co-ocurrencia y modelos probabilísticos.\n",
    "\n",
    "Algunos enlaces de ayuda:\n",
    "- https://en.wikipedia.org/wiki/Word2vec\n",
    "\n",
    "- https://github.com/aitoralmeida/spanish_word2vec"
   ]
  }
 ],
 "metadata": {
  "kernelspec": {
   "display_name": "Python 3",
   "language": "python",
   "name": "python3"
  },
  "language_info": {
   "codemirror_mode": {
    "name": "ipython",
    "version": 3
   },
   "file_extension": ".py",
   "mimetype": "text/x-python",
   "name": "python",
   "nbconvert_exporter": "python",
   "pygments_lexer": "ipython3",
   "version": "3.7.6"
  }
 },
 "nbformat": 4,
 "nbformat_minor": 2
}
